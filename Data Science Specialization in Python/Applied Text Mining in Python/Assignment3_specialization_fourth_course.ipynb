{
 "cells": [
  {
   "cell_type": "markdown",
   "metadata": {},
   "source": [
    "---\n",
    "\n",
    "_You are currently looking at **version 1.1** of this notebook. To download notebooks and datafiles, as well as get help on Jupyter notebooks in the Coursera platform, visit the [Jupyter Notebook FAQ](https://www.coursera.org/learn/python-text-mining/resources/d9pwm) course resource._\n",
    "\n",
    "---"
   ]
  },
  {
   "cell_type": "markdown",
   "metadata": {},
   "source": [
    "# Assignment 3\n",
    "\n",
    "In this assignment you will explore text message data and create models to predict if a message is spam or not. "
   ]
  },
  {
   "cell_type": "code",
   "execution_count": 1,
   "metadata": {},
   "outputs": [
    {
     "data": {
      "text/html": [
       "<div>\n",
       "<style>\n",
       "    .dataframe thead tr:only-child th {\n",
       "        text-align: right;\n",
       "    }\n",
       "\n",
       "    .dataframe thead th {\n",
       "        text-align: left;\n",
       "    }\n",
       "\n",
       "    .dataframe tbody tr th {\n",
       "        vertical-align: top;\n",
       "    }\n",
       "</style>\n",
       "<table border=\"1\" class=\"dataframe\">\n",
       "  <thead>\n",
       "    <tr style=\"text-align: right;\">\n",
       "      <th></th>\n",
       "      <th>text</th>\n",
       "      <th>target</th>\n",
       "    </tr>\n",
       "  </thead>\n",
       "  <tbody>\n",
       "    <tr>\n",
       "      <th>0</th>\n",
       "      <td>Go until jurong point, crazy.. Available only ...</td>\n",
       "      <td>0</td>\n",
       "    </tr>\n",
       "    <tr>\n",
       "      <th>1</th>\n",
       "      <td>Ok lar... Joking wif u oni...</td>\n",
       "      <td>0</td>\n",
       "    </tr>\n",
       "    <tr>\n",
       "      <th>2</th>\n",
       "      <td>Free entry in 2 a wkly comp to win FA Cup fina...</td>\n",
       "      <td>1</td>\n",
       "    </tr>\n",
       "    <tr>\n",
       "      <th>3</th>\n",
       "      <td>U dun say so early hor... U c already then say...</td>\n",
       "      <td>0</td>\n",
       "    </tr>\n",
       "    <tr>\n",
       "      <th>4</th>\n",
       "      <td>Nah I don't think he goes to usf, he lives aro...</td>\n",
       "      <td>0</td>\n",
       "    </tr>\n",
       "    <tr>\n",
       "      <th>5</th>\n",
       "      <td>FreeMsg Hey there darling it's been 3 week's n...</td>\n",
       "      <td>1</td>\n",
       "    </tr>\n",
       "    <tr>\n",
       "      <th>6</th>\n",
       "      <td>Even my brother is not like to speak with me. ...</td>\n",
       "      <td>0</td>\n",
       "    </tr>\n",
       "    <tr>\n",
       "      <th>7</th>\n",
       "      <td>As per your request 'Melle Melle (Oru Minnamin...</td>\n",
       "      <td>0</td>\n",
       "    </tr>\n",
       "    <tr>\n",
       "      <th>8</th>\n",
       "      <td>WINNER!! As a valued network customer you have...</td>\n",
       "      <td>1</td>\n",
       "    </tr>\n",
       "    <tr>\n",
       "      <th>9</th>\n",
       "      <td>Had your mobile 11 months or more? U R entitle...</td>\n",
       "      <td>1</td>\n",
       "    </tr>\n",
       "  </tbody>\n",
       "</table>\n",
       "</div>"
      ],
      "text/plain": [
       "                                                text  target\n",
       "0  Go until jurong point, crazy.. Available only ...       0\n",
       "1                      Ok lar... Joking wif u oni...       0\n",
       "2  Free entry in 2 a wkly comp to win FA Cup fina...       1\n",
       "3  U dun say so early hor... U c already then say...       0\n",
       "4  Nah I don't think he goes to usf, he lives aro...       0\n",
       "5  FreeMsg Hey there darling it's been 3 week's n...       1\n",
       "6  Even my brother is not like to speak with me. ...       0\n",
       "7  As per your request 'Melle Melle (Oru Minnamin...       0\n",
       "8  WINNER!! As a valued network customer you have...       1\n",
       "9  Had your mobile 11 months or more? U R entitle...       1"
      ]
     },
     "execution_count": 1,
     "metadata": {},
     "output_type": "execute_result"
    }
   ],
   "source": [
    "import pandas as pd\n",
    "import numpy as np\n",
    "\n",
    "spam_data = pd.read_csv('spam.csv')\n",
    "\n",
    "spam_data['target'] = np.where(spam_data['target']=='spam',1,0)\n",
    "spam_data.head(10)"
   ]
  },
  {
   "cell_type": "code",
   "execution_count": 2,
   "metadata": {
    "collapsed": true
   },
   "outputs": [],
   "source": [
    "from sklearn.model_selection import train_test_split\n",
    "\n",
    "\n",
    "X_train, X_test, y_train, y_test = train_test_split(spam_data['text'], \n",
    "                                                    spam_data['target'], \n",
    "                                                    random_state=0)"
   ]
  },
  {
   "cell_type": "markdown",
   "metadata": {},
   "source": [
    "### Question 1\n",
    "What percentage of the documents in `spam_data` are spam?\n",
    "\n",
    "*This function should return a float, the percent value (i.e. $ratio * 100$).*"
   ]
  },
  {
   "cell_type": "code",
   "execution_count": 3,
   "metadata": {
    "collapsed": true
   },
   "outputs": [],
   "source": [
    "def answer_one():\n",
    "    \n",
    "    number_of_spam_objects = spam_data[spam_data['target'] == 1].shape[0]\n",
    "    number_of_all_objects = spam_data.shape[0]\n",
    "    \n",
    "    return (number_of_spam_objects/number_of_all_objects)*100"
   ]
  },
  {
   "cell_type": "code",
   "execution_count": 4,
   "metadata": {},
   "outputs": [
    {
     "data": {
      "text/plain": [
       "13.406317300789663"
      ]
     },
     "execution_count": 4,
     "metadata": {},
     "output_type": "execute_result"
    }
   ],
   "source": [
    "answer_one()"
   ]
  },
  {
   "cell_type": "markdown",
   "metadata": {},
   "source": [
    "### Question 2\n",
    "\n",
    "Fit the training data `X_train` using a Count Vectorizer with default parameters.\n",
    "\n",
    "What is the longest token in the vocabulary?\n",
    "\n",
    "*This function should return a string.*"
   ]
  },
  {
   "cell_type": "code",
   "execution_count": 5,
   "metadata": {
    "collapsed": true
   },
   "outputs": [],
   "source": [
    "from sklearn.feature_extraction.text import CountVectorizer\n",
    "vect = CountVectorizer().fit(X_train)"
   ]
  },
  {
   "cell_type": "code",
   "execution_count": 6,
   "metadata": {
    "collapsed": true
   },
   "outputs": [],
   "source": [
    "from sklearn.feature_extraction.text import CountVectorizer\n",
    "\n",
    "def answer_two():\n",
    "    \n",
    "    vect = CountVectorizer().fit(X_train)\n",
    "    \n",
    "    return max(vect.vocabulary_.keys(), key = len)"
   ]
  },
  {
   "cell_type": "code",
   "execution_count": 7,
   "metadata": {},
   "outputs": [
    {
     "data": {
      "text/plain": [
       "'com1win150ppmx3age16subscription'"
      ]
     },
     "execution_count": 7,
     "metadata": {},
     "output_type": "execute_result"
    }
   ],
   "source": [
    "answer_two()"
   ]
  },
  {
   "cell_type": "markdown",
   "metadata": {},
   "source": [
    "### Question 3\n",
    "\n",
    "Fit and transform the training data `X_train` using a Count Vectorizer with default parameters.\n",
    "\n",
    "Next, fit a fit a multinomial Naive Bayes classifier model with smoothing `alpha=0.1`. Find the area under the curve (AUC) score using the transformed test data.\n",
    "\n",
    "*This function should return the AUC score as a float.*"
   ]
  },
  {
   "cell_type": "code",
   "execution_count": 8,
   "metadata": {
    "collapsed": true
   },
   "outputs": [],
   "source": [
    "from sklearn.naive_bayes import MultinomialNB\n",
    "from sklearn.metrics import roc_auc_score\n",
    "\n",
    "def answer_three():\n",
    "    \n",
    "    from sklearn.feature_extraction.text import CountVectorizer\n",
    "    \n",
    "    vect = CountVectorizer().fit(X_train)\n",
    "    \n",
    "    transformed_X_train = vect.transform(X_train)\n",
    "    transformed_X_test = vect.transform(X_test)\n",
    "    \n",
    "    clf = MultinomialNB(alpha = 0.1)\n",
    "    clf.fit(transformed_X_train, y_train)\n",
    "    \n",
    "    return roc_auc_score(y_test, clf.predict(transformed_X_test))"
   ]
  },
  {
   "cell_type": "code",
   "execution_count": 9,
   "metadata": {},
   "outputs": [
    {
     "data": {
      "text/plain": [
       "0.97208121827411165"
      ]
     },
     "execution_count": 9,
     "metadata": {},
     "output_type": "execute_result"
    }
   ],
   "source": [
    "answer_three()"
   ]
  },
  {
   "cell_type": "markdown",
   "metadata": {},
   "source": [
    "### Question 4\n",
    "\n",
    "Fit and transform the training data `X_train` using a Tfidf Vectorizer with default parameters.\n",
    "\n",
    "What 20 features have the smallest tf-idf and what 20 have the largest tf-idf?\n",
    "\n",
    "Put these features in a two series where each series is sorted by tf-idf value and then alphabetically by feature name. The index of the series should be the feature name, and the data should be the tf-idf.\n",
    "\n",
    "The series of 20 features with smallest tf-idfs should be sorted smallest tfidf first, the list of 20 features with largest tf-idfs should be sorted largest first. \n",
    "\n",
    "*This function should return a tuple of two series\n",
    "`(smallest tf-idfs series, largest tf-idfs series)`.*"
   ]
  },
  {
   "cell_type": "code",
   "execution_count": 10,
   "metadata": {
    "collapsed": true
   },
   "outputs": [],
   "source": [
    "from sklearn.feature_extraction.text import TfidfVectorizer\n",
    "\n",
    "def answer_four():\n",
    "    \n",
    "    tifd_vect = TfidfVectorizer().fit(X_train)\n",
    "    transformed_train_set = tifd_vect.transform(X_train) # transformed X_train set to features where each feature is a token of the \n",
    "                                                         # of the entire X_train. Displayed in term-document matrix form:\n",
    "                                                         # ((row index, feature index/col index), tf-idf value)\n",
    "\n",
    "    # feature names of the transformed X_train data\n",
    "    feature_names = np.array(tifd_vect.get_feature_names())\n",
    "\n",
    "    # Get top 20 features with largest tf-idf\n",
    "\n",
    "    transformed_train_set.max(0) # return the biggest tf-idf score for each feature (i.e. return max values along axis = 0 or \n",
    "                                # columns) of the transformed data\n",
    "    max_tfidf_values = transformed_train_set.max(0).toarray()[0] \n",
    "                                 # Change to array form with dimension 1. I.e. the first value of this array is \n",
    "                                 # feature 1 and its corresponding max tf-idf value, the second value is feature 2 and its \n",
    "                                 # corresponding max tf-idf value, etc..\n",
    "    transformed_train_set.max(0).toarray()[0].argsort() \n",
    "                                            # return the array of index of the tf-idf values, where this array of index is sorted \n",
    "                                            # in ascending order of tf-idf values. I.e. Sort array of tf-idf values in ascending\n",
    "                                            # order and replace the tf-idf values with its the arguments (index are the arguments). \n",
    "\n",
    "    top_20_tfidf_index = max_tfidf_values.argsort()[-1:-21:-1]\n",
    "    top_20_tfidf_feature_names = [feature_names[x] for x in top_20_tfidf_index]\n",
    "    top_20_tfidf_values = [max_tfidf_values[x] for x in top_20_tfidf_index]\n",
    "\n",
    "    top_20_tfidf = list(zip(top_20_tfidf_feature_names, top_20_tfidf_values))\n",
    "    top_20_tfidf_alphabetically = sorted(top_20_tfidf, key = lambda x: x[0])\n",
    "\n",
    "    # Get bottom 20 features with smallest tf-idf\n",
    "\n",
    "    bottom_20_tfidf_index = max_tfidf_values.argsort()[:20]\n",
    "    bottom_20_tfidf_feature_names = [feature_names[x] for x in bottom_20_tfidf_index]\n",
    "    bottom_20_tfidf_values = [max_tfidf_values[x] for x in bottom_20_tfidf_index]\n",
    "\n",
    "    bottom_20_tfidf = list(zip(bottom_20_tfidf_feature_names, bottom_20_tfidf_values))\n",
    "    bottom_20_tfidf_alphabetically = sorted(bottom_20_tfidf, key = lambda x: x[0])\n",
    "\n",
    "    # In pd series form\n",
    "\n",
    "    idx, values = zip(*top_20_tfidf_alphabetically)\n",
    "    top_20_tfidf_series = pd.Series(values, idx)\n",
    "    \n",
    "    idx, values = zip(*bottom_20_tfidf_alphabetically)\n",
    "    bottom_20_tfidf_series = pd.Series(values, idx)\n",
    "\n",
    "    return (bottom_20_tfidf_series, top_20_tfidf_series)"
   ]
  },
  {
   "cell_type": "code",
   "execution_count": 11,
   "metadata": {},
   "outputs": [
    {
     "data": {
      "text/plain": [
       "(aaniye          0.074475\n",
       " athletic        0.074475\n",
       " chef            0.074475\n",
       " companion       0.074475\n",
       " courageous      0.074475\n",
       " dependable      0.074475\n",
       " determined      0.074475\n",
       " diwali          0.091250\n",
       " exterminator    0.074475\n",
       " healer          0.074475\n",
       " listener        0.074475\n",
       " mornings        0.091250\n",
       " organizer       0.074475\n",
       " pest            0.074475\n",
       " psychiatrist    0.074475\n",
       " psychologist    0.074475\n",
       " pudunga         0.074475\n",
       " stylist         0.074475\n",
       " sympathetic     0.074475\n",
       " venaam          0.074475\n",
       " dtype: float64, 146tf150p    1.000000\n",
       " 645          1.000000\n",
       " anything     1.000000\n",
       " anytime      1.000000\n",
       " beerage      1.000000\n",
       " blank        0.932702\n",
       " done         1.000000\n",
       " er           1.000000\n",
       " havent       1.000000\n",
       " home         1.000000\n",
       " lei          1.000000\n",
       " nite         1.000000\n",
       " ok           1.000000\n",
       " okie         1.000000\n",
       " thank        1.000000\n",
       " thanx        1.000000\n",
       " tick         0.980166\n",
       " too          1.000000\n",
       " where        1.000000\n",
       " yup          1.000000\n",
       " dtype: float64)"
      ]
     },
     "execution_count": 11,
     "metadata": {},
     "output_type": "execute_result"
    }
   ],
   "source": [
    "answer_four()"
   ]
  },
  {
   "cell_type": "markdown",
   "metadata": {},
   "source": [
    "### Question 5\n",
    "\n",
    "Fit and transform the training data `X_train` using a Tfidf Vectorizer ignoring terms that have a document frequency strictly lower than **3**.\n",
    "\n",
    "Then fit a multinomial Naive Bayes classifier model with smoothing `alpha=0.1` and compute the area under the curve (AUC) score using the transformed test data.\n",
    "\n",
    "*This function should return the AUC score as a float.*"
   ]
  },
  {
   "cell_type": "code",
   "execution_count": 12,
   "metadata": {
    "collapsed": true
   },
   "outputs": [],
   "source": [
    "def answer_five():\n",
    "    # Fit and transform X_train using Tfidf vectorizer that returns feature terms which have document frequency > 3 (i.e. minimum\n",
    "    # document frequency = 3)\n",
    "\n",
    "    from sklearn.feature_extraction.text import TfidfVectorizer\n",
    "\n",
    "    tifd_vect = TfidfVectorizer(min_df = 3).fit(X_train) # document frequency: the count of documents that contain a particular\n",
    "                                                         # term at least once. E.g. [doc1: 'a', doc2: 'a b', doc3: 'b b b b', \n",
    "                                                         # doc4: 'a c c', 'd']\n",
    "                                                         # then document frequency of 'a' is 3, df of 'b' is 2, df of 'c' is 1, and\n",
    "                                                         # df of 'd' is 1. \n",
    "    transformed_train_set = tifd_vect.transform(X_train)\n",
    "\n",
    "\n",
    "    # Fit multinomial naive bayes classifier model with alpha = 0.1, then compute AUC score using transformed test data\n",
    "\n",
    "    from sklearn.naive_bayes import MultinomialNB\n",
    "\n",
    "    clf = MultinomialNB(alpha = 0.1).fit(transformed_train_set, y_train)\n",
    "\n",
    "    from sklearn.metrics import roc_auc_score\n",
    "\n",
    "    transformed_test_set = tifd_vect.transform(X_test)\n",
    "\n",
    "    return roc_auc_score(y_test, clf.predict(transformed_test_set))"
   ]
  },
  {
   "cell_type": "code",
   "execution_count": 13,
   "metadata": {},
   "outputs": [
    {
     "data": {
      "text/plain": [
       "0.94162436548223349"
      ]
     },
     "execution_count": 13,
     "metadata": {},
     "output_type": "execute_result"
    }
   ],
   "source": [
    "answer_five()"
   ]
  },
  {
   "cell_type": "markdown",
   "metadata": {},
   "source": [
    "### Question 6\n",
    "\n",
    "What is the average length of documents (number of characters) for not spam and spam documents?\n",
    "\n",
    "*This function should return a tuple (average length not spam, average length spam).*"
   ]
  },
  {
   "cell_type": "code",
   "execution_count": 14,
   "metadata": {
    "collapsed": true
   },
   "outputs": [],
   "source": [
    "def answer_six():\n",
    "    \n",
    "    spam_data['document_length'] = [len(x) for x in spam_data['text']]\n",
    "    target_groupby_apply_mean = spam_data.groupby(['target']).mean()\n",
    "    \n",
    "    average_length_not_spam= target_groupby_apply_mean.loc[0]\n",
    "    average_length_spam = target_groupby_apply_mean.loc[1]\n",
    "    \n",
    "    return (average_length_not_spam[0], average_length_spam[0])"
   ]
  },
  {
   "cell_type": "code",
   "execution_count": 15,
   "metadata": {},
   "outputs": [
    {
     "data": {
      "text/plain": [
       "(71.023626943005183, 138.8661311914324)"
      ]
     },
     "execution_count": 15,
     "metadata": {},
     "output_type": "execute_result"
    }
   ],
   "source": [
    "answer_six()"
   ]
  },
  {
   "cell_type": "markdown",
   "metadata": {},
   "source": [
    "<br>\n",
    "<br>\n",
    "The following function has been provided to help you combine new features into the training data:"
   ]
  },
  {
   "cell_type": "code",
   "execution_count": 16,
   "metadata": {
    "collapsed": true
   },
   "outputs": [],
   "source": [
    "def add_feature(X, feature_to_add):\n",
    "    \"\"\"\n",
    "    Returns sparse feature matrix with added feature.\n",
    "    feature_to_add can also be a list of features.\n",
    "    \"\"\"\n",
    "    from scipy.sparse import csr_matrix, hstack\n",
    "    return hstack([X, csr_matrix(feature_to_add).T], 'csr')"
   ]
  },
  {
   "cell_type": "markdown",
   "metadata": {},
   "source": [
    "### Question 7\n",
    "\n",
    "Fit and transform the training data X_train using a Tfidf Vectorizer ignoring terms that have a document frequency strictly lower than **5**.\n",
    "\n",
    "Using this document-term matrix and an additional feature, **the length of document (number of characters)**, fit a Support Vector Classification model with regularization `C=10000`. Then compute the area under the curve (AUC) score using the transformed test data.\n",
    "\n",
    "*This function should return the AUC score as a float.*"
   ]
  },
  {
   "cell_type": "code",
   "execution_count": 17,
   "metadata": {},
   "outputs": [
    {
     "data": {
      "text/plain": [
       "0.95813668234215565"
      ]
     },
     "execution_count": 17,
     "metadata": {},
     "output_type": "execute_result"
    }
   ],
   "source": [
    "# Fit and transform X_train using Tfidf vectorizer that returns feature terms which have document frequency > 5 (i.e. minimum\n",
    "# document frequency = 5)\n",
    "\n",
    "from sklearn.feature_extraction.text import TfidfVectorizer\n",
    "\n",
    "tifd_vect = TfidfVectorizer(min_df = 5).fit(X_train) \n",
    "transformed_train_set = tifd_vect.transform(X_train)\n",
    "\n",
    "# add an additional feature (the length of document (number of characters))to this document-term matrix\n",
    "\n",
    "length_of_document_train = [len(x) for x in X_train]\n",
    "feature_added_to_transformed_train = add_feature(transformed_train_set, length_of_document_train) \n",
    "                                                                                    # length_of_document is the 1469th \n",
    "                                                                                   # feature with column index 1468\n",
    "\n",
    "from sklearn.svm import SVC\n",
    "# Fit SVM model (support vector classification model) with C = 10000, and transform test data\n",
    "\n",
    "clf = SVC(C = 10000).fit(feature_added_to_transformed_train, y_train)\n",
    "\n",
    "# Compute area under curve AUC\n",
    "\n",
    "from sklearn.metrics import roc_auc_score\n",
    "\n",
    "transformed_test_set = tifd_vect.transform(X_test)\n",
    "length_of_document_test = [len(x) for x in X_test]\n",
    "feature_added_to_transformed_test = add_feature(transformed_test_set, length_of_document_test)\n",
    "\n",
    "roc_auc_score(y_test, clf.predict(feature_added_to_transformed_test))"
   ]
  },
  {
   "cell_type": "code",
   "execution_count": 18,
   "metadata": {
    "collapsed": true
   },
   "outputs": [],
   "source": [
    "from sklearn.svm import SVC\n",
    "\n",
    "def answer_seven():\n",
    "# Fit and transform X_train using Tfidf vectorizer that returns feature terms which have document frequency > 5 (i.e. minimum\n",
    "# document frequency = 5)\n",
    "\n",
    "    from sklearn.feature_extraction.text import TfidfVectorizer\n",
    "\n",
    "    tifd_vect = TfidfVectorizer(min_df = 5).fit(X_train) \n",
    "    transformed_train_set = tifd_vect.transform(X_train)\n",
    "\n",
    "    # add an additional feature (the length of document (number of characters))to this document-term matrix\n",
    "\n",
    "    length_of_document_train = [len(x) for x in X_train]\n",
    "    feature_added_to_transformed_train = add_feature(transformed_train_set, length_of_document_train) \n",
    "                                                                                        # length_of_document is the 1469th \n",
    "                                                                                       # feature with column index 1468\n",
    "\n",
    "    # Fit SVM model (support vector classification model) with C = 10000, and transform test data\n",
    "\n",
    "    clf = SVC(C = 10000).fit(feature_added_to_transformed_train, y_train)\n",
    "\n",
    "    # Compute area under curve AUC\n",
    "\n",
    "    from sklearn.metrics import roc_auc_score\n",
    "\n",
    "    transformed_test_set = tifd_vect.transform(X_test)\n",
    "    length_of_document_test = [len(x) for x in X_test]\n",
    "    feature_added_to_transformed_test = add_feature(transformed_test_set, length_of_document_test)\n",
    "    \n",
    "    return roc_auc_score(y_test, clf.predict(feature_added_to_transformed_test))"
   ]
  },
  {
   "cell_type": "code",
   "execution_count": 19,
   "metadata": {},
   "outputs": [
    {
     "data": {
      "text/plain": [
       "0.95813668234215565"
      ]
     },
     "execution_count": 19,
     "metadata": {},
     "output_type": "execute_result"
    }
   ],
   "source": [
    "answer_seven()"
   ]
  },
  {
   "cell_type": "markdown",
   "metadata": {},
   "source": [
    "### Question 8\n",
    "\n",
    "What is the average number of digits per document for not spam and spam documents?\n",
    "\n",
    "*This function should return a tuple (average # digits not spam, average # digits spam).*"
   ]
  },
  {
   "cell_type": "code",
   "execution_count": 20,
   "metadata": {
    "collapsed": true
   },
   "outputs": [],
   "source": [
    "def answer_eight():\n",
    "    \n",
    "    import re\n",
    "\n",
    "    spam_data['list_of_digits'] = spam_data['text'].apply(lambda x: ''.join(re.findall(r'[0-9]', x)))\n",
    "    spam_data['number_of_digits'] = [len(x) for x in spam_data['list_of_digits']]\n",
    "    target_groupby_apply_mean = spam_data.groupby(['target']).mean()\n",
    "    target_groupby_apply_mean['number_of_digits']\n",
    "\n",
    "    average_num_digits_not_spam = target_groupby_apply_mean['number_of_digits'][0]\n",
    "    average_num_digits_spam = target_groupby_apply_mean['number_of_digits'][1]\n",
    "\n",
    "    \n",
    "    return (average_num_digits_not_spam, average_num_digits_spam)"
   ]
  },
  {
   "cell_type": "code",
   "execution_count": 21,
   "metadata": {},
   "outputs": [
    {
     "data": {
      "text/plain": [
       "(0.29927461139896372, 15.759036144578314)"
      ]
     },
     "execution_count": 21,
     "metadata": {},
     "output_type": "execute_result"
    }
   ],
   "source": [
    "answer_eight()"
   ]
  },
  {
   "cell_type": "markdown",
   "metadata": {},
   "source": [
    "### Question 9\n",
    "\n",
    "Fit and transform the training data `X_train` using a Tfidf Vectorizer ignoring terms that have a document frequency strictly lower than **5** and using **word n-grams from n=1 to n=3** (unigrams, bigrams, and trigrams).\n",
    "\n",
    "Using this document-term matrix and the following additional features:\n",
    "* the length of document (number of characters)\n",
    "* **number of digits per document**\n",
    "\n",
    "fit a Logistic Regression model with regularization `C=100`. Then compute the area under the curve (AUC) score using the transformed test data.\n",
    "\n",
    "*This function should return the AUC score as a float.*"
   ]
  },
  {
   "cell_type": "code",
   "execution_count": 22,
   "metadata": {
    "collapsed": true
   },
   "outputs": [],
   "source": [
    "from sklearn.linear_model import LogisticRegression\n",
    "\n",
    "def answer_nine():\n",
    "\n",
    "    # Fit and transform X_train\n",
    "    \n",
    "    from sklearn.feature_extraction.text import TfidfVectorizer\n",
    "    tifd_vect = TfidfVectorizer(min_df = 5, ngram_range = (1,3)).fit(X_train) \n",
    "                                                                        # The decision rule for partitioning a text document\n",
    "                                                                        # into tokens of variyng n-grams is not explained \n",
    "                                                                        # from the Python description, but it is likely\n",
    "                                                                        # determined based on Tfidf scores of terms, and \n",
    "                                                                        # combining low Tfidf score terms (e.g. 'the', 'a',\n",
    "                                                                        # 'to', 'this', 'which', etc.) with high Tfidf score\n",
    "                                                                        # terms (i.e. words that are less common and thus \n",
    "                                                                        # more significant in its impact on the document).\n",
    "\n",
    "    transformed_train = tifd_vect.transform(X_train)\n",
    "\n",
    "    # Add additional features to transformed train set. \n",
    "\n",
    "    train_dataframe = X_train.to_frame()\n",
    "    train_dataframe_plus_features = train_dataframe.merge(spam_data, how = 'left', left_index = True, right_index = True)\n",
    "                # Merge X_train with spam_data on left merge (i.e. perform left merge on the index of X_train and index of\n",
    "                # spam_data)\n",
    "\n",
    "    length_of_document_train = [x for x in train_dataframe_plus_features['document_length']] \n",
    "                                                                                        # feature to add to transformed train\n",
    "    transformed_train_plus_additional_features = add_feature(transformed_train, length_of_document_train)\n",
    "\n",
    "    number_of_digits_train = [x for x in train_dataframe_plus_features['number_of_digits']] # another feature to add to \n",
    "                                                                                            # train transformed.\n",
    "\n",
    "    transformed_train_plus_additional_feaures = add_feature(transformed_train_plus_additional_features, number_of_digits_train)\n",
    "\n",
    "    # Fit a Logistic Regression model with regularization C=100. \n",
    "    # Then compute the area under the curve (AUC) score using the transformed test data.\n",
    "\n",
    "    regressor = LogisticRegression(C = 100).fit(transformed_train_plus_additional_feaures, y_train)\n",
    "    \n",
    "    # Calculate AUC score\n",
    "    \n",
    "    from sklearn.metrics import roc_auc_score\n",
    "\n",
    "    transformed_test = tifd_vect.transform(X_test)\n",
    "    test_dataframe = X_test.to_frame()\n",
    "    test_dataframe_plus_features = test_dataframe.merge(spam_data, how = 'left', left_index = True, right_index = True)\n",
    "    length_of_document_test = [x for x in test_dataframe_plus_features['document_length']] \n",
    "    transformed_test_plus_additional_features = add_feature(transformed_test, length_of_document_test)\n",
    "    number_of_digits_test = [x for x in test_dataframe_plus_features['number_of_digits']]\n",
    "\n",
    "    transformed_test_plus_additional_features = add_feature(transformed_test_plus_additional_features, number_of_digits_test)\n",
    "\n",
    "    return roc_auc_score(y_test, regressor.predict(transformed_test_plus_additional_features))"
   ]
  },
  {
   "cell_type": "code",
   "execution_count": 23,
   "metadata": {},
   "outputs": [
    {
     "data": {
      "text/plain": [
       "0.96533283533945646"
      ]
     },
     "execution_count": 23,
     "metadata": {},
     "output_type": "execute_result"
    }
   ],
   "source": [
    "answer_nine()"
   ]
  },
  {
   "cell_type": "markdown",
   "metadata": {},
   "source": [
    "### Question 10\n",
    "\n",
    "What is the average number of non-word characters (anything other than a letter, digit or underscore) per document for not spam and spam documents?\n",
    "\n",
    "*Hint: Use `\\w` and `\\W` character classes*\n",
    "\n",
    "*This function should return a tuple (average # non-word characters not spam, average # non-word characters spam).*"
   ]
  },
  {
   "cell_type": "code",
   "execution_count": 24,
   "metadata": {
    "collapsed": true
   },
   "outputs": [],
   "source": [
    "def answer_ten():\n",
    "    \n",
    "    import re\n",
    "\n",
    "    # Regex pattern to use example: re.findall(r'\\W(?=\\w)|\\W(?!\\w)', '1a2b3A-c_?d_ag') # or re.findall(r'\\W', '1a2b3A-c_?d_ag')\n",
    "\n",
    "    # Note: Just to clarify how (...) open brackets work with | operator, the syntax inside () are considered a distinct group\n",
    "    # of the entire regex syntax. \n",
    "    # e.g. For re.findall(r'(\\w(?=\\w))|(\\w(?!\\w))', '1a2b3A-c_?d_ag') (\\W(?=\\w)) and (\\W(?!\\w) are the two groups of this \n",
    "    # entire regex pattern.\n",
    "\n",
    "    spam_data['non_word_characters'] = spam_data['text'].apply(lambda x: re.findall(r'\\W(?=\\w)|\\W(?!\\w)', x))\n",
    "\n",
    "    spam_data['number_of_non_word_characters'] = [len(x) for x in spam_data['non_word_characters']]\n",
    "\n",
    "    average_number_of_non_word_characters_not_spam = spam_data.groupby('target').mean()['number_of_non_word_characters'][0]\n",
    "    average_number_of_non_word_characters_spam = spam_data.groupby('target').mean()['number_of_non_word_characters'][1]\n",
    "    \n",
    "    return (average_number_of_non_word_characters_not_spam, average_number_of_non_word_characters_spam)"
   ]
  },
  {
   "cell_type": "code",
   "execution_count": 25,
   "metadata": {},
   "outputs": [
    {
     "data": {
      "text/plain": [
       "(17.291813471502589, 29.041499330655956)"
      ]
     },
     "execution_count": 25,
     "metadata": {},
     "output_type": "execute_result"
    }
   ],
   "source": [
    "answer_ten()"
   ]
  },
  {
   "cell_type": "markdown",
   "metadata": {},
   "source": [
    "### Question 11\n",
    "\n",
    "Fit and transform the training data X_train using a Count Vectorizer ignoring terms that have a document frequency strictly lower than **5** and using **character n-grams from n=2 to n=5.**\n",
    "\n",
    "To tell Count Vectorizer to use character n-grams pass in `analyzer='char_wb'` which creates character n-grams only from text inside word boundaries. This should make the model more robust to spelling mistakes.\n",
    "\n",
    "Using this document-term matrix and the following additional features:\n",
    "* the length of document (number of characters)\n",
    "* number of digits per document\n",
    "* **number of non-word characters (anything other than a letter, digit or underscore.)**\n",
    "\n",
    "fit a Logistic Regression model with regularization C=100. Then compute the area under the curve (AUC) score using the transformed test data.\n",
    "\n",
    "Also **find the 10 smallest and 10 largest coefficients from the model** and return them along with the AUC score in a tuple.\n",
    "\n",
    "The list of 10 smallest coefficients should be sorted smallest first, the list of 10 largest coefficients should be sorted largest first.\n",
    "\n",
    "The three features that were added to the document term matrix should have the following names should they appear in the list of coefficients:\n",
    "['length_of_doc', 'digit_count', 'non_word_char_count']\n",
    "\n",
    "*This function should return a tuple `(AUC score as a float, smallest coefs list, largest coefs list)`.*"
   ]
  },
  {
   "cell_type": "code",
   "execution_count": 26,
   "metadata": {
    "collapsed": true
   },
   "outputs": [],
   "source": [
    "def answer_eleven():\n",
    "    \n",
    "    # Fit and transform X_train using Count Vectorizer under following conditions: (1) min_df = 5, ngram_range = (2,5)\n",
    "\n",
    "    from sklearn.feature_extraction.text import CountVectorizer\n",
    "\n",
    "    vect = CountVectorizer(min_df = 5, ngram_range = (2,5), analyzer = 'char_wb').fit(X_train)\n",
    "    transformed_train = vect.transform(X_train)\n",
    "    transformed_test = vect.transform(X_test)\n",
    "\n",
    "    # Add three additional features to transformed_train document-term matrix. Repeat the same process for transformed_test.\n",
    "\n",
    "    train_dataframe = X_train.to_frame()\n",
    "    train_dataframe_plus_features = train_dataframe.merge(spam_data, how = 'left', left_index = True, right_index = True)\n",
    "\n",
    "    length_of_document_train = [x for x in train_dataframe_plus_features['document_length']]\n",
    "    number_of_digits_train = [x for x in train_dataframe_plus_features['number_of_digits']]\n",
    "    number_of_non_word_characters_train = [x for x in train_dataframe_plus_features['number_of_non_word_characters']]\n",
    "\n",
    "    transformed_train_plus_additional_features = add_feature(transformed_train, [length_of_document_train, number_of_digits_train,\n",
    "                                                                                 number_of_non_word_characters_train])\n",
    "\n",
    "    test_dataframe = X_test.to_frame()\n",
    "    test_dataframe_plus_features = test_dataframe.merge(spam_data, how = 'left', left_index = True, right_index = True)\n",
    "\n",
    "    length_of_document_test = [x for x in test_dataframe_plus_features['document_length']]\n",
    "    number_of_digits_test = [x for x in test_dataframe_plus_features['number_of_digits']]\n",
    "    number_of_non_word_characters_test = [x for x in test_dataframe_plus_features['number_of_non_word_characters']]\n",
    "\n",
    "    transformed_test_plus_additional_features = add_feature(transformed_test, [length_of_document_test, number_of_digits_test,\n",
    "                                                                                 number_of_non_word_characters_test])\n",
    "\n",
    "    # Fit a logistic regression model with C = 100.\n",
    "\n",
    "    from sklearn.linear_model import LogisticRegression\n",
    "\n",
    "    regressor = LogisticRegression(C = 100).fit(transformed_train_plus_additional_features, y_train)\n",
    "\n",
    "    # Compute AUC score using transformed test data.\n",
    "\n",
    "    from sklearn.metrics import roc_auc_score\n",
    "\n",
    "    auc_score = roc_auc_score(y_test, regressor.predict(transformed_test_plus_additional_features))\n",
    "\n",
    "    # find the 10 smallest and 10 largest coefficients from the model\n",
    "\n",
    "    model_coefficients = regressor.coef_[0]\n",
    "    feature_names = np.array(vect.get_feature_names() + ['length_of_doc', 'digit_count', 'non_word_char_count'])\n",
    "\n",
    "    top_10_smallest_coef_feature_index = model_coefficients.argsort()[0:10]\n",
    "    top_10_biggest_coef_feature_index = model_coefficients.argsort()[-1:-11:-1]\n",
    "\n",
    "    top_10_smallest_coef_feature_names = [feature_names[x] for x in top_10_smallest_coef_feature_index]\n",
    "    top_10_biggest_coef_feature_names =[feature_names[x] for x in top_10_biggest_coef_feature_index]\n",
    "\n",
    "    return (auc_score, top_10_smallest_coef_feature_names, top_10_biggest_coef_feature_names)"
   ]
  },
  {
   "cell_type": "code",
   "execution_count": 27,
   "metadata": {},
   "outputs": [
    {
     "data": {
      "text/plain": [
       "(0.97885931107074342,\n",
       " ['. ', '..', '? ', ' i', ' y', ' go', ':)', ' h', 'go', ' m'],\n",
       " ['digit_count', 'ne', 'ia', 'co', 'xt', ' ch', 'mob', ' x', 'ww', 'ar'])"
      ]
     },
     "execution_count": 27,
     "metadata": {},
     "output_type": "execute_result"
    }
   ],
   "source": [
    "answer_eleven()"
   ]
  }
 ],
 "metadata": {
  "coursera": {
   "course_slug": "python-text-mining",
   "graded_item_id": "Pn19K",
   "launcher_item_id": "y1juS",
   "part_id": "ctlgo"
  },
  "kernelspec": {
   "display_name": "Python 3",
   "language": "python",
   "name": "python3"
  },
  "language_info": {
   "codemirror_mode": {
    "name": "ipython",
    "version": 3
   },
   "file_extension": ".py",
   "mimetype": "text/x-python",
   "name": "python",
   "nbconvert_exporter": "python",
   "pygments_lexer": "ipython3",
   "version": "3.6.2"
  }
 },
 "nbformat": 4,
 "nbformat_minor": 2
}
