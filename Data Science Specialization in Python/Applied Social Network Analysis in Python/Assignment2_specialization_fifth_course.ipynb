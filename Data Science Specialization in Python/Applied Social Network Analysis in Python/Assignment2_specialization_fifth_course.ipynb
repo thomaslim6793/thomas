{
 "cells": [
  {
   "cell_type": "markdown",
   "metadata": {},
   "source": [
    "---\n",
    "\n",
    "_You are currently looking at **version 1.2** of this notebook. To download notebooks and datafiles, as well as get help on Jupyter notebooks in the Coursera platform, visit the [Jupyter Notebook FAQ](https://www.coursera.org/learn/python-social-network-analysis/resources/yPcBs) course resource._\n",
    "\n",
    "---"
   ]
  },
  {
   "cell_type": "markdown",
   "metadata": {},
   "source": [
    "# Assignment 2 - Network Connectivity\n",
    "\n",
    "In this assignment you will go through the process of importing and analyzing an internal email communication network between employees of a mid-sized manufacturing company. \n",
    "Each node represents an employee and each directed edge between two nodes represents an individual email. The left node represents the sender and the right node represents the recipient."
   ]
  },
  {
   "cell_type": "code",
   "execution_count": 1,
   "metadata": {},
   "outputs": [],
   "source": [
    "import networkx as nx\n",
    "\n",
    "# This line must be commented out when submitting to the autograder\n",
    "#!head email_network.txt"
   ]
  },
  {
   "cell_type": "markdown",
   "metadata": {},
   "source": [
    "### Question 1\n",
    "\n",
    "Using networkx, load up the directed multigraph from `email_network.txt`. Make sure the node names are strings.\n",
    "\n",
    "*This function should return a directed multigraph networkx graph.*"
   ]
  },
  {
   "cell_type": "code",
   "execution_count": 2,
   "metadata": {
    "collapsed": true
   },
   "outputs": [],
   "source": [
    "def answer_one():\n",
    "    \n",
    "    email_network = nx.read_edgelist('email_network.txt', data=[('time', int)], create_using=nx.MultiDiGraph())\n",
    "    \n",
    "    return email_network"
   ]
  },
  {
   "cell_type": "markdown",
   "metadata": {},
   "source": [
    "### Question 2\n",
    "\n",
    "How many employees and emails are represented in the graph from Question 1?\n",
    "\n",
    "*This function should return a tuple (#employees, #emails).*"
   ]
  },
  {
   "cell_type": "code",
   "execution_count": 3,
   "metadata": {
    "collapsed": true
   },
   "outputs": [],
   "source": [
    "def answer_two():\n",
    "        \n",
    "    graph = answer_one()\n",
    "    employees_count = len(graph.nodes())\n",
    "    emails_count = len(graph.edges())\n",
    "    \n",
    "    return (employees_count, emails_count)"
   ]
  },
  {
   "cell_type": "markdown",
   "metadata": {},
   "source": [
    "### Question 3\n",
    "\n",
    "* Part 1. Assume that information in this company can only be exchanged through email.\n",
    "\n",
    "    When an employee sends an email to another employee, a communication channel has been created, allowing the sender to provide information to the receiver, but not vice versa. \n",
    "\n",
    "    Based on the emails sent in the data, is it possible for information to go from every employee to every other employee?\n",
    "\n",
    "\n",
    "* Part 2. Now assume that a communication channel established by an email allows information to be exchanged both ways. \n",
    "\n",
    "    Based on the emails sent in the data, is it possible for information to go from every employee to every other employee?\n",
    "\n",
    "\n",
    "*This function should return a tuple of bools (part1, part2).*"
   ]
  },
  {
   "cell_type": "code",
   "execution_count": 4,
   "metadata": {
    "collapsed": true
   },
   "outputs": [],
   "source": [
    "def answer_three():\n",
    "    \n",
    "    graph = answer_one()\n",
    "    \n",
    "    # part1 is True if this directed graph is strongly connected, False otherwise\n",
    "    part1 = nx.is_strongly_connected(graph)\n",
    "    \n",
    "    # part2 is True if this directed graph is weakly connected, False otherwise\n",
    "    part2 = nx.is_weakly_connected(graph)\n",
    "    \n",
    "    return (part1, part2)"
   ]
  },
  {
   "cell_type": "markdown",
   "metadata": {},
   "source": [
    "### Question 4\n",
    "\n",
    "How many nodes are in the largest (in terms of nodes) weakly connected component?\n",
    "\n",
    "*This function should return an int.*"
   ]
  },
  {
   "cell_type": "code",
   "execution_count": 5,
   "metadata": {
    "collapsed": true,
    "scrolled": true
   },
   "outputs": [],
   "source": [
    "def answer_four():\n",
    "        \n",
    "    graph = answer_one()\n",
    "\n",
    "    largest_weakly_connected_component = list(nx.weakly_connected_components(graph))[0]\n",
    "    node_count_largest_weakly_connected_component = len(list(nx.weakly_connected_components(graph))[0])\n",
    "    \n",
    "    return node_count_largest_weakly_connected_component"
   ]
  },
  {
   "cell_type": "markdown",
   "metadata": {},
   "source": [
    "### Question 5\n",
    "\n",
    "How many nodes are in the largest (in terms of nodes) strongly connected component?\n",
    "\n",
    "*This function should return an int*"
   ]
  },
  {
   "cell_type": "code",
   "execution_count": 6,
   "metadata": {
    "collapsed": true
   },
   "outputs": [],
   "source": [
    "def answer_five():\n",
    "        \n",
    "    graph = answer_one()\n",
    "\n",
    "    sorted_strongly_connected_components = sorted(list(nx.strongly_connected_components(graph)), key = lambda x: len(x))\n",
    "    largest_strongly_connected_component = sorted_strongly_connected_components[-1]\n",
    "    node_count_largest_strongly_connected_component = len(largest_strongly_connected_component)\n",
    "\n",
    "    return node_count_largest_strongly_connected_component"
   ]
  },
  {
   "cell_type": "markdown",
   "metadata": {},
   "source": [
    "### Question 6\n",
    "\n",
    "Using the NetworkX function strongly_connected_component_subgraphs, find the subgraph of nodes in a largest strongly connected component. \n",
    "Call this graph G_sc.\n",
    "\n",
    "*This function should return a networkx MultiDiGraph named G_sc.*"
   ]
  },
  {
   "cell_type": "code",
   "execution_count": 7,
   "metadata": {
    "collapsed": true
   },
   "outputs": [],
   "source": [
    "def answer_six():\n",
    "        \n",
    "    graph = answer_one()\n",
    "\n",
    "    G_sc = max(nx.strongly_connected_component_subgraphs(graph), key=len)\n",
    "    \n",
    "    return G_sc"
   ]
  },
  {
   "cell_type": "markdown",
   "metadata": {},
   "source": [
    "### Question 7\n",
    "\n",
    "What is the average distance between nodes in G_sc?\n",
    "\n",
    "*This function should return a float.*"
   ]
  },
  {
   "cell_type": "code",
   "execution_count": 8,
   "metadata": {
    "collapsed": true
   },
   "outputs": [],
   "source": [
    "def answer_seven():\n",
    "        \n",
    "    G = answer_six()\n",
    "    average_distance = nx.average_shortest_path_length(G) # Average distance between every pair of nodes in G\n",
    "    \n",
    "    return average_distance"
   ]
  },
  {
   "cell_type": "markdown",
   "metadata": {},
   "source": [
    "### Question 8\n",
    "\n",
    "What is the largest possible distance between two employees in G_sc?\n",
    "\n",
    "*This function should return an int.*"
   ]
  },
  {
   "cell_type": "code",
   "execution_count": 9,
   "metadata": {
    "collapsed": true
   },
   "outputs": [],
   "source": [
    "def answer_eight():\n",
    "        \n",
    "    G = answer_six()\n",
    "    diameter = nx.diameter(G) # Diameter of G. I.e. The maximum distance between any pair of nodes in G\n",
    "    \n",
    "    return diameter"
   ]
  },
  {
   "cell_type": "markdown",
   "metadata": {},
   "source": [
    "### Question 9\n",
    "\n",
    "What is the set of nodes in G_sc with eccentricity equal to the diameter?\n",
    "\n",
    "*This function should return a set of the node(s).*"
   ]
  },
  {
   "cell_type": "code",
   "execution_count": 25,
   "metadata": {},
   "outputs": [],
   "source": [
    "def answer_nine():\n",
    "       \n",
    "    G = answer_six()\n",
    "    diameter = answer_eight()\n",
    "    \n",
    "    periphery = set([x for x in nx.eccentricity(G) if nx.eccentricity(G)[x] == diameter])\n",
    "\n",
    "    return periphery"
   ]
  },
  {
   "cell_type": "markdown",
   "metadata": {},
   "source": [
    "### Question 10\n",
    "\n",
    "What is the set of node(s) in G_sc with eccentricity equal to the radius?\n",
    "\n",
    "*This function should return a set of the node(s).*"
   ]
  },
  {
   "cell_type": "code",
   "execution_count": 26,
   "metadata": {
    "collapsed": true
   },
   "outputs": [],
   "source": [
    "def answer_ten():\n",
    "        \n",
    "    G = answer_six()\n",
    "    radius = nx.radius(G)\n",
    "    \n",
    "    center = set([x for x in nx.eccentricity(G) if nx.eccentricity(G)[x] == radius])\n",
    "    \n",
    "    return center"
   ]
  },
  {
   "cell_type": "markdown",
   "metadata": {},
   "source": [
    "### Question 11\n",
    "\n",
    "Which node in G_sc is connected to the most other nodes by a shortest path of length equal to the diameter of G_sc?\n",
    "\n",
    "How many nodes are connected to this node?\n",
    "\n",
    "\n",
    "*This function should return a tuple (name of node, number of satisfied connected nodes).*"
   ]
  },
  {
   "cell_type": "code",
   "execution_count": 62,
   "metadata": {
    "collapsed": true
   },
   "outputs": [],
   "source": [
    "def answer_eleven():\n",
    "        \n",
    "    # I.e. Find the node in the periphery of G_sc, which is most connected to other nodes of G_sc. Find the number of nodes \n",
    "    # connected to this node. \n",
    "\n",
    "    G = answer_six()\n",
    "    diameter = answer_eight()\n",
    "    periphery = answer_nine()\n",
    "\n",
    "    periphery_nodes_distances = [nx.shortest_path_length(G,x) for x in periphery]\n",
    "    connected_nodes_diameter_distance_apart = [[node for node in x if x[node] == diameter] for x in periphery_nodes_distances]\n",
    "    num_connected_nodes_diameter_distance_apart = [len(x) for x in connected_nodes_diameter_distance_apart]\n",
    "\n",
    "    periphery_nodes_and_count_of_nodes_diameter_distance_apart = list(zip(periphery, \n",
    "                                                                          num_connected_nodes_diameter_distance_apart))\n",
    "    periphery_node_with_most_nodes_diameter_distance_apart = sorted(periphery_nodes_and_count_of_nodes_diameter_distance_apart,\n",
    "                                                                    key = lambda x: x[1])[-1]\n",
    "    \n",
    "    return periphery_node_with_most_nodes_diameter_distance_apart"
   ]
  },
  {
   "cell_type": "markdown",
   "metadata": {},
   "source": [
    "### Question 12\n",
    "\n",
    "Suppose you want to prevent communication from flowing to the node that you found in the previous question from any node in the center of G_sc, what is the smallest number of nodes you would need to remove from the graph (you're not allowed to remove the node from the previous question or the center nodes)? \n",
    "\n",
    "*This function should return an integer.*"
   ]
  },
  {
   "cell_type": "code",
   "execution_count": 113,
   "metadata": {
    "collapsed": true
   },
   "outputs": [],
   "source": [
    "def answer_twelve():\n",
    "        \n",
    "    G = answer_six()\n",
    "    center = list(answer_ten())\n",
    "    target_node = answer_eleven()[0]\n",
    "    \n",
    "    # Use nx.minimum_node_cut which explicitly gives the list of node set which has minimal size for disconnecting, where as\n",
    "    # nx.node_connectivity gives an approximation of the number of the node set which has minimal size for disconnecting. \n",
    "    smallest_num_nodes_disconnect = min([len(nx.minimum_node_cut(G, x, target_node)) for x in center])\n",
    "            \n",
    "    return smallest_num_nodes_disconnect"
   ]
  },
  {
   "cell_type": "markdown",
   "metadata": {},
   "source": [
    "### Question 13\n",
    "\n",
    "Construct an undirected graph G_un using G_sc (you can ignore the attributes).\n",
    "\n",
    "*This function should return a networkx Graph.*"
   ]
  },
  {
   "cell_type": "code",
   "execution_count": 115,
   "metadata": {
    "collapsed": true
   },
   "outputs": [],
   "source": [
    "def answer_thirteen():\n",
    "        \n",
    "    G = answer_six()\n",
    "    G_un = nx.Graph(G.to_undirected())\n",
    "    \n",
    "    return G_un"
   ]
  },
  {
   "cell_type": "markdown",
   "metadata": {},
   "source": [
    "### Question 14\n",
    "\n",
    "What is the transitivity and average clustering coefficient of graph G_un?\n",
    "\n",
    "*This function should return a tuple (transitivity, avg clustering).*"
   ]
  },
  {
   "cell_type": "code",
   "execution_count": 121,
   "metadata": {
    "collapsed": true
   },
   "outputs": [],
   "source": [
    "def answer_fourteen():\n",
    "        \n",
    "    G = answer_thirteen()\n",
    "    transitivity = nx.transitivity(nx.Graph(G))\n",
    "    avg_clustering = nx.average_clustering(nx.Graph(G))\n",
    "\n",
    "    return (transitivity, avg_clustering)"
   ]
  }
 ],
 "metadata": {
  "coursera": {
   "course_slug": "python-social-network-analysis",
   "graded_item_id": "jMCHR",
   "launcher_item_id": "7RsKp",
   "part_id": "E9gn5"
  },
  "kernelspec": {
   "display_name": "Python 3",
   "language": "python",
   "name": "python3"
  },
  "language_info": {
   "codemirror_mode": {
    "name": "ipython",
    "version": 3
   },
   "file_extension": ".py",
   "mimetype": "text/x-python",
   "name": "python",
   "nbconvert_exporter": "python",
   "pygments_lexer": "ipython3",
   "version": "3.6.2"
  }
 },
 "nbformat": 4,
 "nbformat_minor": 2
}
