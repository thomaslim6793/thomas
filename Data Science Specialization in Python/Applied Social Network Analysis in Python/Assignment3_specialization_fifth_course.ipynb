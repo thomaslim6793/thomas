{
 "cells": [
  {
   "cell_type": "markdown",
   "metadata": {},
   "source": [
    "---\n",
    "\n",
    "_You are currently looking at **version 1.2** of this notebook. To download notebooks and datafiles, as well as get help on Jupyter notebooks in the Coursera platform, visit the [Jupyter Notebook FAQ](https://www.coursera.org/learn/python-social-network-analysis/resources/yPcBs) course resource._\n",
    "\n",
    "---"
   ]
  },
  {
   "cell_type": "markdown",
   "metadata": {},
   "source": [
    "# Assignment 3\n",
    "\n",
    "In this assignment you will explore measures of centrality on two networks, a friendship network in Part 1, and a blog network in Part 2."
   ]
  },
  {
   "cell_type": "markdown",
   "metadata": {},
   "source": [
    "## Part 1\n",
    "\n",
    "Answer questions 1-4 using the network `G1`, a network of friendships at a university department. Each node corresponds to a person, and an edge indicates friendship. \n",
    "\n",
    "*The network has been loaded as networkx graph object `G1`.*"
   ]
  },
  {
   "cell_type": "code",
   "execution_count": 1,
   "metadata": {
    "collapsed": true
   },
   "outputs": [],
   "source": [
    "import networkx as nx\n",
    "\n",
    "G1 = nx.read_gml('friendships.gml')"
   ]
  },
  {
   "cell_type": "code",
   "execution_count": 2,
   "metadata": {
    "collapsed": true
   },
   "outputs": [],
   "source": [
    "G = nx.Graph()\n",
    "G.add_edges_from([('A', 'B'),('A', 'C'),('B', 'D'),('C', 'D'),('D','E'),('C', 'E'),('D', 'G'),('E', 'G'),('G', 'F')])"
   ]
  },
  {
   "cell_type": "code",
   "execution_count": 3,
   "metadata": {},
   "outputs": [
    {
     "data": {
      "text/plain": [
       "{('A', 'B'): 2.666666666666666,\n",
       " ('A', 'C'): 4.333333333333333,\n",
       " ('B', 'D'): 5.666666666666667,\n",
       " ('C', 'D'): 3.666666666666666,\n",
       " ('C', 'E'): 3.666666666666666,\n",
       " ('D', 'E'): 2.0,\n",
       " ('D', 'G'): 6.333333333333333,\n",
       " ('E', 'G'): 3.6666666666666665,\n",
       " ('G', 'F'): 6.0}"
      ]
     },
     "execution_count": 3,
     "metadata": {},
     "output_type": "execute_result"
    }
   ],
   "source": [
    "nx.edge_betweenness_centrality(G, normalized = False)"
   ]
  },
  {
   "cell_type": "markdown",
   "metadata": {},
   "source": [
    "### Question 1\n",
    "\n",
    "Find the degree centrality, closeness centrality, and normalized betweeness centrality (excluding endpoints) of node 100.\n",
    "\n",
    "*This function should return a tuple of floats `(degree_centrality, closeness_centrality, betweenness_centrality)`.*"
   ]
  },
  {
   "cell_type": "code",
   "execution_count": 4,
   "metadata": {
    "collapsed": true
   },
   "outputs": [],
   "source": [
    "def answer_one():\n",
    "        \n",
    "    degree_centrality = nx.degree_centrality(G1)[100]\n",
    "    closeness_centrality = nx.closeness_centrality(G1, normalized = False)[100]\n",
    "    normalized_betweenness_centrality = nx.betweenness_centrality(G1, k=None, normalized = True, endpoints=False)[100]\n",
    "    \n",
    "    return (degree_centrality, closeness_centrality, normalized_betweenness_centrality)"
   ]
  },
  {
   "cell_type": "markdown",
   "metadata": {},
   "source": [
    "<br>\n",
    "#### For Questions 2, 3, and 4, assume that you do not know anything about the structure of the network, except for the all the centrality values of the nodes. That is, use one of the covered centrality measures to rank the nodes and find the most appropriate candidate.\n",
    "<br>"
   ]
  },
  {
   "cell_type": "markdown",
   "metadata": {},
   "source": [
    "### Question 2\n",
    "\n",
    "Suppose you are employed by an online shopping website and are tasked with selecting one user in network G1 to send an online shopping voucher to. We expect that the user who receives the voucher will send it to their friends in the network.  You want the voucher to reach as many nodes as possible. The voucher can be forwarded to multiple users at the same time, but the travel distance of the voucher is limited to one step, which means if the voucher travels more than one step in this network, it is no longer valid. Apply your knowledge in network centrality to select the best candidate for the voucher. \n",
    "\n",
    "*This function should return an integer, the name of the node.*"
   ]
  },
  {
   "cell_type": "code",
   "execution_count": 5,
   "metadata": {
    "collapsed": true,
    "scrolled": true
   },
   "outputs": [],
   "source": [
    "def answer_two():\n",
    "        \n",
    "    # Find the node with most direct connections (i.e. the node connected to most nodes in one edge). Since 'degree centrality' \n",
    "    # ranks nodes by the number of direct connections of nodes, i.e. the number of edges attached to each node, which is equivalent\n",
    "    # to finding the node with the most other nodes connected to it in one step (which is what the question asks for).\n",
    "\n",
    "    dict_to_list = [(key, nx.degree_centrality(G1)[key]) for key in nx.degree_centrality(G1)]\n",
    "\n",
    "    sorted_list = sorted(dict_to_list, key= lambda x: x[1], reverse=True)\n",
    "\n",
    "    node_with_most_direct_connections = sorted_list[0][0]\n",
    "    \n",
    "    return node_with_most_direct_connections"
   ]
  },
  {
   "cell_type": "markdown",
   "metadata": {},
   "source": [
    "### Question 3\n",
    "\n",
    "Now the limit of the voucher’s travel distance has been removed. Because the network is connected, regardless of who you pick, every node in the network will eventually receive the voucher. However, we now want to ensure that the voucher reaches the nodes in the lowest average number of hops.\n",
    "\n",
    "How would you change your selection strategy? Write a function to tell us who is the best candidate in the network under this condition.\n",
    "\n",
    "*This function should return an integer, the name of the node.*"
   ]
  },
  {
   "cell_type": "code",
   "execution_count": 6,
   "metadata": {
    "collapsed": true,
    "scrolled": false
   },
   "outputs": [],
   "source": [
    "def answer_three():\n",
    "        \n",
    "    # The question asks me to find the node that has the lowest average number of hops (lowest average distance) \n",
    "    # to reach another node in the network. The measure of node in a network in terms of its average shortest distance \n",
    "    # to all other nodes in the network is the normalized 'closeness centrality'.\n",
    "    \n",
    "    normalized_closeness_centrality = nx.closeness_centrality(G1, normalized=True)\n",
    "    \n",
    "    dict_to_list = [(key, normalized_closeness_centrality[key]) for key in normalized_closeness_centrality]\n",
    "\n",
    "    sorted_list = sorted(dict_to_list, key= lambda x: x[1], reverse=True)\n",
    "\n",
    "    node_with_lowest_average_number_of_hops = sorted_list[0][0]\n",
    "    \n",
    "    return node_with_lowest_average_number_of_hops"
   ]
  },
  {
   "cell_type": "markdown",
   "metadata": {},
   "source": [
    "### Question 4\n",
    "\n",
    "Assume the restriction on the voucher’s travel distance is still removed, but now a competitor has developed a strategy to remove a person from the network in order to disrupt the distribution of your company’s voucher. Your competitor is specifically targeting people who are often bridges of information flow between other pairs of people. Identify the single riskiest person to be removed under your competitor’s strategy?\n",
    "\n",
    "*This function should return an integer, the name of the node.*"
   ]
  },
  {
   "cell_type": "code",
   "execution_count": 7,
   "metadata": {
    "collapsed": true
   },
   "outputs": [],
   "source": [
    "def answer_four():\n",
    "        \n",
    "    # This question asks me to find the node that has the highest frequency in its appearance in the set of all shortest paths \n",
    "    # between all possible combinations of two connected (directly or indirectly) nodes in a network. The measure of node in a \n",
    "    # network, in terms of its highest frequency in its appearance in the set of all shortest paths between all possible \n",
    "    # combinations of two nodes, is the 'betweenness centrality'. This measure can be normalized by dividing the score by the \n",
    "    # number of node pairs of the network. \n",
    "    \n",
    "    normalized_betweenness_centrality = nx.betweenness_centrality(G1, normalized=True)\n",
    "    \n",
    "    dict_to_list = [(key, normalized_betweenness_centrality[key]) for key in normalized_betweenness_centrality]\n",
    "\n",
    "    sorted_list = sorted(dict_to_list, key= lambda x: x[1], reverse=True)\n",
    "\n",
    "    node_with_highest_frequency_appearing_in_shortest_paths_of_all_possible_connected_node_pairs = sorted_list[0][0]\n",
    "    \n",
    "    return node_with_highest_frequency_appearing_in_shortest_paths_of_all_possible_connected_node_pairs"
   ]
  },
  {
   "cell_type": "markdown",
   "metadata": {
    "collapsed": true
   },
   "source": [
    "## Part 2\n",
    "\n",
    "`G2` is a directed network of political blogs, where nodes correspond to a blog and edges correspond to links between blogs. Use your knowledge of PageRank and HITS to answer Questions 5-9."
   ]
  },
  {
   "cell_type": "code",
   "execution_count": 8,
   "metadata": {},
   "outputs": [],
   "source": [
    "G2 = nx.read_gml('blogs.gml')"
   ]
  },
  {
   "cell_type": "markdown",
   "metadata": {},
   "source": [
    "### Question 5\n",
    "\n",
    "Apply the Scaled Page Rank Algorithm to this network. Find the Page Rank of node 'realclearpolitics.com' with damping value 0.85.\n",
    "\n",
    "*This function should return a float.*"
   ]
  },
  {
   "cell_type": "code",
   "execution_count": 9,
   "metadata": {
    "collapsed": true
   },
   "outputs": [],
   "source": [
    "def answer_five():\n",
    "    # The 'PageRank algorithm' measures centrality of nodes in terms of a property called 'PageRank' which is a artificial (i.e.\n",
    "    # not an inherent property) property of nodes. This algorithm applies a k step procedure in which 'PageRank' values of\n",
    "    # each nodes are transfered amongst each other based on the direction of the edges. And at the end of the kth step, the \n",
    "    #PageRank' value of the nodes indicate their \"importance\" within that network. The higher the 'PageRank', the more important\n",
    "    # the node is. \n",
    "    return nx.pagerank(G2, alpha = 0.85)['realclearpolitics.com']"
   ]
  },
  {
   "cell_type": "markdown",
   "metadata": {},
   "source": [
    "### Question 6\n",
    "\n",
    "Apply the Scaled Page Rank Algorithm to this network with damping value 0.85. Find the 5 nodes with highest Page Rank. \n",
    "\n",
    "*This function should return a list of the top 5 blogs in desending order of Page Rank.*"
   ]
  },
  {
   "cell_type": "code",
   "execution_count": 10,
   "metadata": {
    "collapsed": true
   },
   "outputs": [],
   "source": [
    "def answer_six():\n",
    "        \n",
    "    pgrank = nx.pagerank(G2, alpha = 0.85)\n",
    "\n",
    "    dict_to_list = [(key, pgrank[key]) for key in pgrank]\n",
    "\n",
    "    sorted_list = sorted(dict_to_list, key= lambda x: x[1], reverse=True)\n",
    "    \n",
    "    return [x[0] for x in sorted_list[:5]]"
   ]
  },
  {
   "cell_type": "markdown",
   "metadata": {
    "collapsed": true
   },
   "source": [
    "### Question 7\n",
    "\n",
    "Apply the HITS Algorithm to the network to find the hub and authority scores of node 'realclearpolitics.com'. \n",
    "\n",
    "*Your result should return a tuple of floats `(hub_score, authority_score)`.*"
   ]
  },
  {
   "cell_type": "code",
   "execution_count": 11,
   "metadata": {
    "collapsed": true
   },
   "outputs": [],
   "source": [
    "def answer_seven():\n",
    "    \n",
    "    # HITS algorithm measures centrality of nodes in terms of properties called 'hub' and 'authority' of nodes. The algorithm \n",
    "    # applies a k step process in which the initial 'hub' and 'authority' values of nodes of the network is transfered amongst\n",
    "    # each other by a distinct procedure defined mathematically. \n",
    "    \n",
    "    hits = nx.hits(G2)\n",
    "    \n",
    "    return (hits[0]['realclearpolitics.com'], hits[1]['realclearpolitics.com'])"
   ]
  },
  {
   "cell_type": "markdown",
   "metadata": {
    "collapsed": true
   },
   "source": [
    "### Question 8 \n",
    "\n",
    "Apply the HITS Algorithm to this network to find the 5 nodes with highest hub scores.\n",
    "\n",
    "*This function should return a list of the top 5 blogs in desending order of hub scores.*"
   ]
  },
  {
   "cell_type": "code",
   "execution_count": 12,
   "metadata": {
    "collapsed": true
   },
   "outputs": [],
   "source": [
    "def answer_eight():\n",
    "        \n",
    "    hits = nx.hits(G2)\n",
    "\n",
    "    hub_dict_to_list = [(key, hits[0][key]) for key in hits[0]]\n",
    "\n",
    "    sorted_list = sorted(hub_dict_to_list, key= lambda x: x[1], reverse=True)\n",
    "    \n",
    "    return [x[0] for x in sorted_list[:5]]"
   ]
  },
  {
   "cell_type": "markdown",
   "metadata": {},
   "source": [
    "### Question 9 \n",
    "\n",
    "Apply the HITS Algorithm to this network to find the 5 nodes with highest authority scores.\n",
    "\n",
    "*This function should return a list of the top 5 blogs in desending order of authority scores.*"
   ]
  },
  {
   "cell_type": "code",
   "execution_count": 13,
   "metadata": {
    "collapsed": true
   },
   "outputs": [],
   "source": [
    "def answer_nine():\n",
    "        \n",
    "    hits = nx.hits(G2)\n",
    "\n",
    "    authority_dict_to_list = [(key, hits[1][key]) for key in hits[1]]\n",
    "\n",
    "    sorted_list = sorted(authority_dict_to_list, key= lambda x: x[1], reverse=True)\n",
    "    \n",
    "    return [x[0] for x in sorted_list[:5]]"
   ]
  }
 ],
 "metadata": {
  "coursera": {
   "course_slug": "python-social-network-analysis",
   "graded_item_id": "4XCse",
   "launcher_item_id": "utvmz",
   "part_id": "cZ7Jg"
  },
  "kernelspec": {
   "display_name": "Python 3",
   "language": "python",
   "name": "python3"
  },
  "language_info": {
   "codemirror_mode": {
    "name": "ipython",
    "version": 3
   },
   "file_extension": ".py",
   "mimetype": "text/x-python",
   "name": "python",
   "nbconvert_exporter": "python",
   "pygments_lexer": "ipython3",
   "version": "3.6.2"
  }
 },
 "nbformat": 4,
 "nbformat_minor": 2
}
