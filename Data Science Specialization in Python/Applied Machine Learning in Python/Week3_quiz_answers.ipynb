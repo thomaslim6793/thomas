{
 "cells": [
  {
   "cell_type": "markdown",
   "metadata": {},
   "source": [
    "5.\n",
    "Question 5\n",
    "Using the fitted model `m` create a precision-recall curve to answer the following question:\n",
    "\n",
    "For the fitted model `m`, approximately what precision can we expect for a recall of 0.8?\n",
    "\n",
    "(Use y_test and X_test to compute the precision-recall curve. If you wish to view a plot, you can use `plt.show()` )"
   ]
  },
  {
   "cell_type": "code",
   "execution_count": null,
   "metadata": {},
   "outputs": [],
   "source": [
    "print(m)\n",
    "y_predicted = m.decision_function(X_test)\n",
    "precision, recall, thresholds = precision_recall_curve(y_test, y_predicted)\n",
    "recall[-26]"
   ]
  },
  {
   "cell_type": "markdown",
   "metadata": {},
   "source": [
    "8.\n",
    "Question 8\n",
    "Using the fitted model `m` what is the macro precision score?\n",
    "\n",
    "(Use y_test and X_test to compute the precision score.)"
   ]
  },
  {
   "cell_type": "code",
   "execution_count": null,
   "metadata": {},
   "outputs": [],
   "source": [
    "print(m)\n",
    "y_predicted = m.predict(X_test)\n",
    "precision_score(y_true = y_test, y_pred = y_predicted, average = 'macro')"
   ]
  },
  {
   "cell_type": "markdown",
   "metadata": {},
   "source": [
    "13.\n",
    "Question 13\n",
    "Using the already defined RBF SVC model `m`, run a grid search on the parameters C and gamma, for values [0.01, 0.1, 1, 10]. The grid search should find the model that best optimizes for recall. How much better is the recall of this model than the precision? (Compute recall - precision to 3 decimal places)\n",
    "\n",
    "(Use y_test and X_test to compute precision and recall.)"
   ]
  },
  {
   "cell_type": "code",
   "execution_count": null,
   "metadata": {},
   "outputs": [],
   "source": [
    "print(m)\n",
    "grid_values = {'gamma': [0.01, 0.1, 1, 10],'C': [0.01, 0.1, 1, 10]}\n",
    "# grid search on three-fold cv with four gamma values to find the C value and\n",
    "# gamma value to which optimizes recall as the evaluation metric\n",
    "# I.e. This function calculates the parameters for the model (i.e. select the\n",
    "# and gamma parameter values) which maximizes recall score. \n",
    "grid_m_recall = GridSearchCV(m, param_grid = grid_values, scoring = 'recall')\n",
    "grid_m_recall.fit(X_train, y_train)\n",
    "\n",
    "y_values_predicted = grid_m_recall.predict(X_test)\n",
    "# precision of this model\n",
    "precision = precision_score(y_test, y_values_predicted)\n",
    "\n",
    "# recall of this model\n",
    "recall = recall_score(y_test, y_values_predicted)\n",
    "\n",
    "print(recall - precision)"
   ]
  },
  {
   "cell_type": "markdown",
   "metadata": {},
   "source": [
    "14.\n",
    "Question 14\n",
    "Using the already defined RBF SVC model `m`, run a grid search on the parameters C and gamma, for values [0.01, 0.1, 1, 10]. The grid search should find the model that best optimizes for precision. How much better is the precision of this model than the recall? (Compute precision - recall to 3 decimal places)\n",
    "\n",
    "(Use y_test and X_test to compute precision and recall.)"
   ]
  },
  {
   "cell_type": "code",
   "execution_count": 1,
   "metadata": {},
   "outputs": [
    {
     "ename": "NameError",
     "evalue": "name 'm' is not defined",
     "output_type": "error",
     "traceback": [
      "\u001b[1;31m---------------------------------------------------------------------------\u001b[0m",
      "\u001b[1;31mNameError\u001b[0m                                 Traceback (most recent call last)",
      "\u001b[1;32m<ipython-input-1-3e1dc2229b58>\u001b[0m in \u001b[0;36m<module>\u001b[1;34m\u001b[0m\n\u001b[1;32m----> 1\u001b[1;33m \u001b[0mprint\u001b[0m\u001b[1;33m(\u001b[0m\u001b[0mm\u001b[0m\u001b[1;33m)\u001b[0m\u001b[1;33m\u001b[0m\u001b[1;33m\u001b[0m\u001b[0m\n\u001b[0m\u001b[0;32m      2\u001b[0m \u001b[1;33m\u001b[0m\u001b[0m\n\u001b[0;32m      3\u001b[0m \u001b[0mprint\u001b[0m\u001b[1;33m(\u001b[0m\u001b[0mm\u001b[0m\u001b[1;33m)\u001b[0m\u001b[1;33m\u001b[0m\u001b[1;33m\u001b[0m\u001b[0m\n\u001b[0;32m      4\u001b[0m \u001b[0mgrid_values\u001b[0m \u001b[1;33m=\u001b[0m \u001b[1;33m{\u001b[0m\u001b[1;34m'gamma'\u001b[0m\u001b[1;33m:\u001b[0m \u001b[1;33m[\u001b[0m\u001b[1;36m0.01\u001b[0m\u001b[1;33m,\u001b[0m \u001b[1;36m0.1\u001b[0m\u001b[1;33m,\u001b[0m \u001b[1;36m1\u001b[0m\u001b[1;33m,\u001b[0m \u001b[1;36m10\u001b[0m\u001b[1;33m]\u001b[0m\u001b[1;33m}\u001b[0m\u001b[1;33m\u001b[0m\u001b[1;33m\u001b[0m\u001b[0m\n\u001b[0;32m      5\u001b[0m \u001b[1;31m# grid search on three-fold cv with four gamma values to find the C value and gamma value to which optimizes precision as the evaluation metric\u001b[0m\u001b[1;33m\u001b[0m\u001b[1;33m\u001b[0m\u001b[1;33m\u001b[0m\u001b[0m\n",
      "\u001b[1;31mNameError\u001b[0m: name 'm' is not defined"
     ]
    }
   ],
   "source": [
    "print(m)\n",
    "\n",
    "print(m)\n",
    "grid_values = {'gamma': [0.01, 0.1, 1, 10],'C': [0.01, 0.1, 1, 10]}\n",
    "# grid search on three-fold cv with four gamma values to find the C value and gamma value to which optimizes precision as the evaluation metric\n",
    "# I.e. This function selects the model (i.e. select the C and gamma parameter values) which maximizes precision score\n",
    "grid_m_precision = GridSearchCV(m, param_grid = grid_values, scoring = 'precision')\n",
    "grid_m_precision.fit(X_train, y_train)\n",
    "\n",
    "y_values_predicted = grid_m_precision.predict(X_test)\n",
    "# precision of this model\n",
    "precision = precision_score(y_test, y_values_predicted)\n",
    "\n",
    "# recall of this model\n",
    "recall = recall_score(y_test, y_values_predicted)\n",
    "\n",
    "print(precision - recall)"
   ]
  },
  {
   "cell_type": "markdown",
   "metadata": {},
   "source": [
    "6.\n",
    "Question 6\n",
    "Given the following models and AUC scores, match each model to its corresponding ROC curve.\n",
    "\n",
    "Model 1 test set AUC score: 0.91\n",
    "Model 2 test set AUC score: 0.50\n",
    "Model 3 test set AUC score: 0.56\n",
    "\n",
    "ans) \n",
    "Model 1: Roc 1\n",
    "Model 2: Roc 3\n",
    "Model 3: Roc 2\n",
    "\n",
    "7.\n",
    "Question 7\n",
    "Given the following models and accuracy scores, match each model to its corresponding ROC curve.\n",
    "\n",
    "Model 1 test set accuracy: 0.91\n",
    "Model 2 test set accuracy: 0.79\n",
    "Model 3 test set accuracy: 0.72\n",
    "\n",
    "ans) \n",
    "\n",
    "Model 1: Roc 1\n",
    "Model 2: Roc 2\n",
    "Model 3: Roc 3\n",
    "\n",
    "9.\n",
    "Question 9\n",
    "Which of the following is true of the R-Squared metric? (Select all that apply)\n",
    "\n",
    "ans) \n",
    "\n",
    "A model that always predicts the mean of y would get a score of 0.0\n",
    "\n",
    "\n",
    "The best possible score is 1.0\n",
    "\n",
    "\n",
    "The worst possible score is 0.0\n",
    "\n",
    "10.\n",
    "Question 10\n",
    "In a future society, a machine is used to predict a crime before it occurs. If you were responsible for tuning this machine, what evaluation metric would you want to maximize to ensure no innocent people (people not about to commit a crime) are imprisoned (where crime is the positive label)?\n",
    "\n",
    "ans) precision\n",
    "\n",
    "11.\n",
    "Question 11\n",
    "Consider the machine from the previous question. If you were responsible for tuning this machine, what evaluation metric would you want to maximize to ensure all criminals (people about to commit a crime) are imprisoned (where crime is the positive label)?\n",
    "\n",
    "ans) recall\n",
    "\n",
    "12.\n",
    "Question 12\n",
    "A classifier is trained on an imbalanced multiclass dataset. After looking at the model’s precision scores, you find that the micro averaging is much smaller than the macro averaging score. Which of the following is most likely happening?\n",
    "\n",
    "ans) \n",
    "The model is probably misclassifying the frequent labels more than the infrequent labels.\n",
    "\n",
    "\n"
   ]
  }
 ],
 "metadata": {
  "kernelspec": {
   "display_name": "Python 3",
   "language": "python",
   "name": "python3"
  },
  "language_info": {
   "codemirror_mode": {
    "name": "ipython",
    "version": 3
   },
   "file_extension": ".py",
   "mimetype": "text/x-python",
   "name": "python",
   "nbconvert_exporter": "python",
   "pygments_lexer": "ipython3",
   "version": "3.8.3"
  }
 },
 "nbformat": 4,
 "nbformat_minor": 4
}
