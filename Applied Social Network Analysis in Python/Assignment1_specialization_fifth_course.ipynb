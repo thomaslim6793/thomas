{
 "cells": [
  {
   "cell_type": "markdown",
   "metadata": {},
   "source": [
    "---\n",
    "\n",
    "_You are currently looking at **version 1.1** of this notebook. To download notebooks and datafiles, as well as get help on Jupyter notebooks in the Coursera platform, visit the [Jupyter Notebook FAQ](https://www.coursera.org/learn/python-social-network-analysis/resources/yPcBs) course resource._\n",
    "\n",
    "---"
   ]
  },
  {
   "cell_type": "markdown",
   "metadata": {},
   "source": [
    "# Assignment 1 - Creating and Manipulating Graphs\n",
    "\n",
    "Eight employees at a small company were asked to choose 3 movies that they would most enjoy watching for the upcoming company movie night. These choices are stored in the file `Employee_Movie_Choices.txt`.\n",
    "\n",
    "A second file, `Employee_Relationships.txt`, has data on the relationships between different coworkers. \n",
    "\n",
    "The relationship score has value of `-100` (Enemies) to `+100` (Best Friends). A value of zero means the two employees haven't interacted or are indifferent.\n",
    "\n",
    "Both files are tab delimited."
   ]
  },
  {
   "cell_type": "code",
   "execution_count": 1,
   "metadata": {
    "collapsed": true
   },
   "outputs": [],
   "source": [
    "import networkx as nx\n",
    "import pandas as pd\n",
    "import numpy as np\n",
    "from networkx.algorithms import bipartite\n",
    "\n",
    "\n",
    "# This is the set of employees\n",
    "employees = set(['Pablo',\n",
    "                 'Lee',\n",
    "                 'Georgia',\n",
    "                 'Vincent',\n",
    "                 'Andy',\n",
    "                 'Frida',\n",
    "                 'Joan',\n",
    "                 'Claude'])\n",
    "\n",
    "# This is the set of movies\n",
    "movies = set(['The Shawshank Redemption',\n",
    "              'Forrest Gump',\n",
    "              'The Matrix',\n",
    "              'Anaconda',\n",
    "              'The Social Network',\n",
    "              'The Godfather',\n",
    "              'Monty Python and the Holy Grail',\n",
    "              'Snakes on a Plane',\n",
    "              'Kung Fu Panda',\n",
    "              'The Dark Knight',\n",
    "              'Mean Girls'])\n",
    "\n",
    "\n",
    "# you can use the following function to plot graphs\n",
    "# make sure to comment it out before submitting to the autograder\n",
    "\"\"\"\n",
    "def plot_graph(G, weight_name=None):\n",
    "    '''\n",
    "    G: a networkx G\n",
    "    weight_name: name of the attribute for plotting edge weights (if G is weighted)\n",
    "    '''\n",
    "    %matplotlib notebook\n",
    "    import matplotlib.pyplot as plt\n",
    "    \n",
    "    plt.figure()\n",
    "    pos = nx.spring_layout(G)\n",
    "    edges = G.edges()\n",
    "    weights = None\n",
    "    \n",
    "    if weight_name:\n",
    "        weights = [int(G[u][v][weight_name]) for u,v in edges]\n",
    "        labels = nx.get_edge_attributes(G,weight_name)\n",
    "        nx.draw_networkx_edge_labels(G,pos,edge_labels=labels)\n",
    "        nx.draw_networkx(G, pos, edges=edges, width=weights);\n",
    "    else:\n",
    "        nx.draw_networkx(G, pos, edges=edges);\n",
    "\"\"\";"
   ]
  },
  {
   "cell_type": "markdown",
   "metadata": {},
   "source": [
    "### Question 1\n",
    "\n",
    "Using NetworkX, load in the bipartite graph from `Employee_Movie_Choices.txt` and return that graph.\n",
    "\n",
    "*This function should return a networkx graph with 19 nodes and 24 edges*"
   ]
  },
  {
   "cell_type": "code",
   "execution_count": 2,
   "metadata": {
    "collapsed": true
   },
   "outputs": [],
   "source": [
    "def answer_one():\n",
    "        \n",
    "    movie_choice_df = pd.read_csv('Employee_Movie_Choices.txt', sep = '\\t')\n",
    "    movie_choice_df.rename(columns = {'#Employee': 'Employee'}, inplace = True)\n",
    "    \n",
    "    bipartite_graph = nx.from_pandas_dataframe(movie_choice_df, 'Employee', 'Movie')\n",
    "    \n",
    "    return bipartite_graph "
   ]
  },
  {
   "cell_type": "markdown",
   "metadata": {},
   "source": [
    "### Question 2\n",
    "\n",
    "Using the graph from the previous question, add nodes attributes named `'type'` where movies have the value `'movie'` and employees have the value `'employee'` and return that graph.\n",
    "\n",
    "*This function should return a networkx graph with node attributes `{'type': 'movie'}` or `{'type': 'employee'}`*"
   ]
  },
  {
   "cell_type": "code",
   "execution_count": 3,
   "metadata": {
    "collapsed": true
   },
   "outputs": [],
   "source": [
    "def answer_two():\n",
    "    \n",
    "    graph = answer_one()\n",
    "\n",
    "    # Create a dictionary that maps the 'type' attribute values to the entire set of nodes of the graph. \n",
    "    node_attribute_type_employees = dict.fromkeys(employees, 'employee')\n",
    "    node_attribute_type_movies = dict.fromkeys(movies, 'movie')\n",
    "\n",
    "    node_attribute_type = node_attribute_type_employees\n",
    "    node_attribute_type.update(node_attribute_type_movies)\n",
    "\n",
    "    # Set node attributes all named 'type' for all nodes in the graph. \n",
    "    nx.set_node_attributes(graph, 'type', node_attribute_type)\n",
    "\n",
    "    return graph"
   ]
  },
  {
   "cell_type": "markdown",
   "metadata": {
    "collapsed": true
   },
   "source": [
    "### Question 3\n",
    "\n",
    "Find a weighted projection of the graph from `answer_two` which tells us how many movies different pairs of employees have in common.\n",
    "\n",
    "*This function should return a weighted projected graph.*"
   ]
  },
  {
   "cell_type": "code",
   "execution_count": 4,
   "metadata": {
    "collapsed": true
   },
   "outputs": [],
   "source": [
    "def answer_three():\n",
    "        \n",
    "    graph = answer_two()\n",
    "    weighted_projected_graph = bipartite.weighted_projected_graph(graph, employees)\n",
    "    \n",
    "    return weighted_projected_graph"
   ]
  },
  {
   "cell_type": "markdown",
   "metadata": {
    "collapsed": true
   },
   "source": [
    "### Question 4\n",
    "\n",
    "Suppose you'd like to find out if people that have a high relationship score also like the same types of movies.\n",
    "\n",
    "Find the Pearson correlation ( using `DataFrame.corr()` ) between employee relationship scores and the number of movies they have in common. If two employees have no movies in common it should be treated as a 0, not a missing value, and should be included in the correlation calculation.\n",
    "\n",
    "*This function should return a float.*"
   ]
  },
  {
   "cell_type": "code",
   "execution_count": 5,
   "metadata": {
    "collapsed": true
   },
   "outputs": [],
   "source": [
    "def answer_four():\n",
    "        \n",
    "    # First, add all possible edges between all employees to graph that aren't already in graph. Give these edges attribute of \n",
    "    # {'weight': 0}. [I.e. if there are n possible edges between m nodes, and there are n-k unique edges, add the remaining \n",
    "    # k unique edges, and give all of them the attribute of {'weight': 0}]. \n",
    "\n",
    "    # Since there are 8 employees, i.e. 8 nodes, the number of all possible edges are 8*7/2 = 28.  \n",
    "\n",
    "    graph = answer_three()\n",
    "    missing_edges_list = list(nx.non_edges(graph))\n",
    "    graph.add_edges_from(missing_edges_list, weight = 0)\n",
    "\n",
    "    # Second, import 'Employee_Relationships.txt' to a dataframe. Then create a second graph that takes each row of this dataframe\n",
    "    # as an edge, and the set of unique values of both columns 'n1' and 'n2' as the set of nodes of this graph. \n",
    "\n",
    "    relationship_df = pd.read_csv('Employee_Relationships.txt', sep = '\\t', header = None,\n",
    "                                  names = ['n1', 'n2', 'relationship score'])\n",
    "    graph2 = nx.from_pandas_dataframe(relationship_df, 'n1', 'n2', edge_attr='relationship score')\n",
    "\n",
    "    # Third, combine the two graphs (graph, graph2) together into one graph, then create a dataframe that takes each edge\n",
    "    # of this combined graph as the row with two columns for the two attributes without specifying the nodes of each edge. \n",
    "\n",
    "    combined_graph = nx.compose(graph, graph2)\n",
    "\n",
    "    list_of_edges = combined_graph.edges(data=True)\n",
    "    attribute_values = [(x[2]['relationship score'], x[2]['weight']) for x in list_of_edges]\n",
    "\n",
    "    attributes_df = pd.DataFrame(attribute_values, columns = ['relationship score', 'weight'])\n",
    "    \n",
    "    return attributes_df.corr(method='pearson').iloc[0][1]"
   ]
  }
 ],
 "metadata": {
  "coursera": {
   "course_slug": "python-social-network-analysis",
   "graded_item_id": "YNa9b",
   "launcher_item_id": "hvNc1",
   "part_id": "VbyiB"
  },
  "kernelspec": {
   "display_name": "Python 3",
   "language": "python",
   "name": "python3"
  },
  "language_info": {
   "codemirror_mode": {
    "name": "ipython",
    "version": 3
   },
   "file_extension": ".py",
   "mimetype": "text/x-python",
   "name": "python",
   "nbconvert_exporter": "python",
   "pygments_lexer": "ipython3",
   "version": "3.8.3"
  }
 },
 "nbformat": 4,
 "nbformat_minor": 2
}
