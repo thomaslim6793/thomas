{
 "cells": [
  {
   "cell_type": "markdown",
   "metadata": {},
   "source": [
    "---\n",
    "\n",
    "_You are currently looking at **version 1.5** of this notebook. To download notebooks and datafiles, as well as get help on Jupyter notebooks in the Coursera platform, visit the [Jupyter Notebook FAQ](https://www.coursera.org/learn/python-data-analysis/resources/0dhYG) course resource._\n",
    "\n",
    "---"
   ]
  },
  {
   "cell_type": "markdown",
   "metadata": {},
   "source": [
    "# Assignment 3 - More Pandas\n",
    "This assignment requires more individual learning then the last one did - you are encouraged to check out the [pandas documentation](http://pandas.pydata.org/pandas-docs/stable/) to find functions or methods you might not have used yet, or ask questions on [Stack Overflow](http://stackoverflow.com/) and tag them as pandas and python related. And of course, the discussion forums are open for interaction with your peers and the course staff."
   ]
  },
  {
   "cell_type": "markdown",
   "metadata": {},
   "source": [
    "### Question 1 (20%)\n",
    "Load the energy data from the file `Energy Indicators.xls`, which is a list of indicators of [energy supply and renewable electricity production](Energy%20Indicators.xls) from the [United Nations](http://unstats.un.org/unsd/environment/excel_file_tables/2013/Energy%20Indicators.xls) for the year 2013, and should be put into a DataFrame with the variable name of **energy**.\n",
    "\n",
    "Keep in mind that this is an Excel file, and not a comma separated values file. Also, make sure to exclude the footer and header information from the datafile. The first two columns are unneccessary, so you should get rid of them, and you should change the column labels so that the columns are:\n",
    "\n",
    "`['Country', 'Energy Supply', 'Energy Supply per Capita', '% Renewable']`\n",
    "\n",
    "Convert `Energy Supply` to gigajoules (there are 1,000,000 gigajoules in a petajoule). For all countries which have missing data (e.g. data with \"...\") make sure this is reflected as `np.NaN` values.\n",
    "\n",
    "Rename the following list of countries (for use in later questions):\n",
    "\n",
    "```\"Republic of Korea\": \"South Korea\",\n",
    "\"United States of America\": \"United States\",\n",
    "\"United Kingdom of Great Britain and Northern Ireland\": \"United Kingdom\",\n",
    "\"China, Hong Kong Special Administrative Region\": \"Hong Kong\"```\n",
    "\n",
    "There are also several countries with numbers and/or parenthesis in their name. Be sure to remove these, \n",
    "\n",
    "e.g. \n",
    "\n",
    "`'Bolivia (Plurinational State of)'` should be `'Bolivia'`, \n",
    "\n",
    "`'Switzerland17'` should be `'Switzerland'`.\n",
    "\n",
    "<br>\n",
    "\n",
    "Next, load the GDP data from the file `world_bank.csv`, which is a csv containing countries' GDP from 1960 to 2015 from [World Bank](http://data.worldbank.org/indicator/NY.GDP.MKTP.CD). Call this DataFrame **GDP**. \n",
    "\n",
    "Make sure to skip the header, and rename the following list of countries:\n",
    "\n",
    "```\"Korea, Rep.\": \"South Korea\", \n",
    "\"Iran, Islamic Rep.\": \"Iran\",\n",
    "\"Hong Kong SAR, China\": \"Hong Kong\"```\n",
    "\n",
    "<br>\n",
    "\n",
    "Finally, load the [Sciamgo Journal and Country Rank data for Energy Engineering and Power Technology](http://www.scimagojr.com/countryrank.php?category=2102) from the file `scimagojr-3.xlsx`, which ranks countries based on their journal contributions in the aforementioned area. Call this DataFrame **ScimEn**.\n",
    "\n",
    "Join the three datasets: GDP, Energy, and ScimEn into a new dataset (using the intersection of country names). Use only the last 10 years (2006-2015) of GDP data and only the top 15 countries by Scimagojr 'Rank' (Rank 1 through 15). \n",
    "\n",
    "The index of this DataFrame should be the name of the country, and the columns should be ['Rank', 'Documents', 'Citable documents', 'Citations', 'Self-citations',\n",
    "       'Citations per document', 'H index', 'Energy Supply',\n",
    "       'Energy Supply per Capita', '% Renewable', '2006', '2007', '2008',\n",
    "       '2009', '2010', '2011', '2012', '2013', '2014', '2015'].\n",
    "\n",
    "*This function should return a DataFrame with 20 columns and 15 entries.*"
   ]
  },
  {
   "cell_type": "code",
   "execution_count": 2,
   "metadata": {
    "collapsed": true,
    "umich_part_id": "009",
    "umich_partlist_id": "003"
   },
   "outputs": [],
   "source": [
    "def answer_one():\n",
    "    # Import panda and numpy\n",
    "    import pandas as pd\n",
    "    import numpy as np\n",
    "    # First Dataset\n",
    "    # 1: Load the energy data from the file Energy Indicators.xls, \n",
    "    energy = pd.read_excel('Energy Indicators.xls')\n",
    "    # 2: remove header (remove index label values 0 to 15, the index number 16 (for Afghanistan) becomes the first row\n",
    "    energy = energy.drop(energy.index[0:16])\n",
    "    # 3: remove footer\n",
    "    energy = energy.drop(energy.index[227:])\n",
    "    # 4 : change index label names so it starts from 0 instead of 16\n",
    "    energy.index = pd.RangeIndex(start = 0, step =1, stop = 227)\n",
    "    # 5: remove first two columns\n",
    "    energy = energy.drop(energy.columns[0:2].tolist(), axis = 1)\n",
    "    # 6: change the column labels so that the columns are: ['Country', 'Energy Supply', 'Energy Supply per Capita', '% Renewable']\n",
    "    energy.columns = ['Country', 'Energy Supply', 'Energy Supply per Capita', '% Renewable']\n",
    "    # 7: For all countries which have missing data (e.g. data with \"...\") make sure this is reflected as np.NaN values\n",
    "    energy = energy.replace('...', np.nan)\n",
    "    # 8: Convert Energy Supply to gigajoules (there are 1,000,000 gigajoules in a petajoule). \n",
    "    energy['Energy Supply'] = energy['Energy Supply'] * 1000000\n",
    "    # 9: There are also several countries with numbers and/or parenthesis in their name. Be sure to remove these\n",
    "    # for removing all number from strings, the regex pattern is 1 or more digits so '\\d+'\n",
    "    energy['Country'] = energy['Country'].str.replace(r'\\d+','')\n",
    "    # for removing all substrings of pattern (...), and one white space before it, the regex syntax is '\\ \\(.*\\)'\n",
    "    energy['Country'] = energy['Country'].str.replace(r\"\\ \\(.*\\)\",'')\n",
    "    # 10: Rename the following list of countries (for use in later questions):\n",
    "    \"\"\"\n",
    "    \"Republic of Korea\": \"South Korea\",\n",
    "    \"United States of America\": \"United States\",\n",
    "    \"United Kingdom of Great Britain and Northern Ireland\": \"United Kingdom\",\n",
    "    \"China, Hong Kong Special Administrative Region\": \"Hong Kong \"\n",
    "    \"\"\"\n",
    "    energy['Country'] = energy['Country'].replace({\"Republic of Korea\": \"South Korea\",\n",
    "    \"United States of America\": \"United States\",\n",
    "    \"United Kingdom of Great Britain and Northern Ireland\": \"United Kingdom\",\n",
    "    \"China, Hong Kong Special Administrative Region\": \"Hong Kong\"})\n",
    "    # 2) Second Dataset\n",
    "    # 11: Next, load the GDP data from the file world_bank.csv, \n",
    "    # which is a csv containing countries' GDP from 1960 to 2015 from World Bank. Call this DataFrame GDP.\n",
    "    GDP = pd.read_csv('world_bank.csv')\n",
    "    # 12: Make sure to skip the header\n",
    "    GDP = GDP.drop(GDP.index[0:4])\n",
    "    # 13: change index label names so it starts from 0 \n",
    "    GDP.index = pd.RangeIndex(start = 0, step =1, stop = 264)\n",
    "    # 13: and rename the following list of countries:\n",
    "    \"\"\"\n",
    "    \"Korea, Rep.\": \"South Korea\", \n",
    "    \"Iran, Islamic Rep.\": \"Iran\",\n",
    "    \"Hong Kong SAR, China\": \"Hong Kong\"\n",
    "    \"\"\"\n",
    "    GDP['Data Source'] = GDP['Data Source'].replace({\"Korea, Rep.\": \"South Korea\", \n",
    "    \"Iran, Islamic Rep.\": \"Iran\",\n",
    "    \"Hong Kong SAR, China\": \"Hong Kong\"})\n",
    "    # 14: order rows alphabetically ascending based on 'Data Source' column values\n",
    "    GDP = GDP.sort_values('Data Source')\n",
    "    # 15: Change column names {'Data Source': 'Country', 'Unnamed: 4': '1960', ..., 'Unnamed: 59': '2015'}. \n",
    "    # first change {}'Data Source': 'Country'}\n",
    "    GDP = GDP.rename(columns= {'Data Source': 'Country'})\n",
    "    # 16: Now for the hard part, rename {'Unnamed: 4': '1960', ..., 'Unnamed: 59': '2015'}\n",
    "    # What I can do is GDP = GDP.rename(columns = years_dict), where years_dict = {'Unnamed: 4': '1960', ..., 'Unnamed: 59': '2015'}\n",
    "    # I can create this dictionary by first creating two lists, keys = ['Unnamed: 4', ..., 'Unnamed: 59'] and \n",
    "    # values = ['1960', ..., '2015'] and using years_dict = dict(zip(keys, values))\n",
    "    # But first, lets create the list called values first. This is very easy. \n",
    "    values = list(map(str, list(range(1960, 2016))))\n",
    "    # now for the little harder part, lets create the list called keys. \n",
    "    string_list_4_to_59 = list(map(str, list(range(4, 60))))\n",
    "    keys = list(map(lambda x: 'Unnamed: ' + x, string_list_4_to_59))\n",
    "    # Finally, I can create a dictionary which maps each element of keys to values, mapping the elements that have the same position\n",
    "    years_dict = dict(zip(keys, values))\n",
    "    GDP = GDP.rename(columns = years_dict)\n",
    "    # 3) Third Dataset\n",
    "    # 17: Finally, load the Sciamgo Journal and Country Rank data \n",
    "    # for Energy Engineering and Power Technology from the file scimagojr-3.xlsx, \n",
    "    # which ranks countries based on their journal contributions in the aforementioned area. Call this DataFrame ScimEn.\n",
    "    ScimEn = pd.read_excel('scimagojr-3.xlsx')\n",
    "    # 4) Merging these three Dataframes by their intersection\n",
    "    # 18: Join the three datasets: GDP, Energy, and ScimEn into a new dataset (using the intersection of country names). \n",
    "    first_combine = pd.merge(energy, GDP, how = 'inner', on = 'Country')\n",
    "    second_combine = pd.merge(first_combine, ScimEn, how = 'inner', on = 'Country')\n",
    "    three_combine = second_combine\n",
    "    # 19: Use only the last 10 years (2006-2015) of GDP data and only the top 15 countries by Scimagojr 'Rank' (Rank 1 through 15).\n",
    "    # First, change 'Country' to be the index name and its values the index labels\n",
    "    three_combine = three_combine.set_index('Country')\n",
    "    # 20: only columns that matter\n",
    "    last_ten_years = list(map(str, list(range(2006, 2016))))\n",
    "    only_columns = ['Rank', 'Documents', 'Citable documents', 'Citations', 'Self-citations', \n",
    "                'Citations per document', 'H index', 'Energy Supply', 'Energy Supply per Capita', '% Renewable'] + last_ten_years\n",
    "    three_combine = three_combine[only_columns]\n",
    "    # 21: sort values for 'Rank'\n",
    "    three_combine = three_combine.sort_values('Rank')\n",
    "    # This function should return a DataFrame with 20 columns and 15 entries.\n",
    "    return three_combine.loc[three_combine.index[0:15]]"
   ]
  },
  {
   "cell_type": "markdown",
   "metadata": {},
   "source": [
    "### Question 2 (6.6%)\n",
    "The previous question joined three datasets then reduced this to just the top 15 entries. When you joined the datasets, but before you reduced this to the top 15 items, how many entries did you lose?\n",
    "\n",
    "*This function should return a single number.*"
   ]
  },
  {
   "cell_type": "code",
   "execution_count": null,
   "metadata": {
    "collapsed": true
   },
   "outputs": [],
   "source": [
    "%%HTML\n",
    "<svg width=\"800\" height=\"300\">\n",
    "  <circle cx=\"150\" cy=\"180\" r=\"80\" fill-opacity=\"0.2\" stroke=\"black\" stroke-width=\"2\" fill=\"blue\" />\n",
    "  <circle cx=\"200\" cy=\"100\" r=\"80\" fill-opacity=\"0.2\" stroke=\"black\" stroke-width=\"2\" fill=\"red\" />\n",
    "  <circle cx=\"100\" cy=\"100\" r=\"80\" fill-opacity=\"0.2\" stroke=\"black\" stroke-width=\"2\" fill=\"green\" />\n",
    "  <line x1=\"150\" y1=\"125\" x2=\"300\" y2=\"150\" stroke=\"black\" stroke-width=\"2\" fill=\"black\" stroke-dasharray=\"5,3\"/>\n",
    "  <text  x=\"300\" y=\"165\" font-family=\"Verdana\" font-size=\"35\">Everything but this!</text>\n",
    "</svg>"
   ]
  },
  {
   "cell_type": "code",
   "execution_count": 7,
   "metadata": {
    "collapsed": true,
    "umich_part_id": "010",
    "umich_partlist_id": "003"
   },
   "outputs": [],
   "source": [
    "def answer_two():\n",
    "    # The answer for this question is (energy v GDP v SciEm) - (energy ^ GDP ^ SciEm)\n",
    "    # this is len(three_combine_outer_merge) - len(three_combine_inner_merge)\n",
    "    import pandas as pd\n",
    "    import numpy as np\n",
    "    energy = pd.read_excel('Energy Indicators.xls')\n",
    "    energy = energy.drop(energy.index[0:16])\n",
    "    energy = energy.drop(energy.index[227:])\n",
    "    energy.index = pd.RangeIndex(start = 0, step =1, stop = 227)\n",
    "    energy = energy.drop(energy.columns[0:2].tolist(), axis = 1)\n",
    "    energy.columns = ['Country', 'Energy Supply', 'Energy Supply per Capita', '% Renewable']\n",
    "    energy = energy.replace('...', np.nan)\n",
    "    energy['Energy Supply'] = energy['Energy Supply'] * 1000000\n",
    "    energy['Country'] = energy['Country'].str.replace(r'\\d+','')\n",
    "    energy['Country'] = energy['Country'].str.replace(r\"\\ \\(.*\\)\",'')\n",
    "    energy['Country'] = energy['Country'].replace({\"Republic of Korea\": \"South Korea\",\n",
    "    \"United States of America\": \"United States\",\n",
    "    \"United Kingdom of Great Britain and Northern Ireland\": \"United Kingdom\",\n",
    "    \"China, Hong Kong Special Administrative Region\": \"Hong Kong\"})\n",
    "    GDP = pd.read_csv('world_bank.csv')\n",
    "    GDP = GDP.drop(GDP.index[0:4])\n",
    "    GDP.index = pd.RangeIndex(start = 0, step =1, stop = 264)\n",
    "    GDP['Data Source'] = GDP['Data Source'].replace({\"Korea, Rep.\": \"South Korea\", \n",
    "    \"Iran, Islamic Rep.\": \"Iran\",\n",
    "    \"Hong Kong SAR, China\": \"Hong Kong\"})\n",
    "    GDP = GDP.sort_values('Data Source')\n",
    "    GDP = GDP.rename(columns= {'Data Source': 'Country'})\n",
    "    string_list_4_to_59 = list(map(str, list(range(4, 60))))\n",
    "    values = list(map(str, list(range(1960, 2016))))\n",
    "    keys = list(map(lambda x: 'Unnamed: ' + x, string_list_4_to_59))\n",
    "    years_dict = dict(zip(keys, values))\n",
    "    GDP = GDP.rename(columns = years_dict)\n",
    "    ScimEn = pd.read_excel('scimagojr-3.xlsx') \n",
    "    # three_combine_outer_merge\n",
    "    first_combine_outer_merge = pd.merge(energy, GDP, how = 'outer', on = 'Country')\n",
    "    second_combine_outer_merge = pd.merge(first_combine_outer_merge, ScimEn, how = 'outer', on = 'Country')\n",
    "    three_combine_outer_merge = second_combine_outer_merge\n",
    "    three_combine_outer_merge = three_combine_outer_merge.set_index('Country')\n",
    "    last_ten_years = list(map(str, list(range(2006, 2016))))\n",
    "    only_columns = ['Rank', 'Documents', 'Citable documents', 'Citations', 'Self-citations', \n",
    "                'Citations per document', 'H index', 'Energy Supply', 'Energy Supply per Capita', '% Renewable'] + last_ten_years\n",
    "    three_combine_outer_merge = three_combine_outer_merge[only_columns]\n",
    "    # three_combine_inner_merge\n",
    "    first_combine_inner_merge = pd.merge(energy, GDP, how = 'inner', on = 'Country')\n",
    "    second_combine_inner_merge = pd.merge(first_combine_inner_merge, ScimEn, how = 'inner', on = 'Country')\n",
    "    three_combine_inner_merge = second_combine_inner_merge\n",
    "    three_combine_inner_merge = three_combine_inner_merge.set_index('Country')\n",
    "    last_ten_years = list(map(str, list(range(2006, 2016))))\n",
    "    only_columns = ['Rank', 'Documents', 'Citable documents', 'Citations', 'Self-citations', \n",
    "                'Citations per document', 'H index', 'Energy Supply', 'Energy Supply per Capita', '% Renewable'] + last_ten_years\n",
    "    three_combine_inner_merge = three_combine_inner_merge[only_columns]\n",
    "    return len(three_combine_outer_merge) - len(three_combine_inner_merge)"
   ]
  },
  {
   "cell_type": "markdown",
   "metadata": {},
   "source": [
    "## Answer the following questions in the context of only the top 15 countries by Scimagojr Rank (aka the DataFrame returned by `answer_one()`)"
   ]
  },
  {
   "cell_type": "markdown",
   "metadata": {},
   "source": [
    "### Question 3 (6.6%)\n",
    "What is the average GDP over the last 10 years for each country? (exclude missing values from this calculation.)\n",
    "\n",
    "*This function should return a Series named `avgGDP` with 15 countries and their average GDP sorted in descending order.*"
   ]
  },
  {
   "cell_type": "code",
   "execution_count": null,
   "metadata": {
    "collapsed": true,
    "scrolled": true,
    "umich_part_id": "011",
    "umich_partlist_id": "003"
   },
   "outputs": [],
   "source": [
    "def answer_three():\n",
    "    top_15 = answer_one()\n",
    "    last_ten_years = list(map(str, list(range(2006, 2016))))\n",
    "    top_15['avgGDP'] = top_15[last_ten_years].mean(axis=1)\n",
    "    avgGDP = top_15['avgGDP'].sort_values(ascending = False)\n",
    "    return avgGDP"
   ]
  },
  {
   "cell_type": "markdown",
   "metadata": {},
   "source": [
    "### Question 4 (6.6%)\n",
    "By how much had the GDP changed over the 10 year span for the country with the 6th largest average GDP?\n",
    "\n",
    "*This function should return a single number.*"
   ]
  },
  {
   "cell_type": "code",
   "execution_count": null,
   "metadata": {
    "collapsed": true,
    "scrolled": true,
    "umich_part_id": "012",
    "umich_partlist_id": "003"
   },
   "outputs": [],
   "source": [
    "def answer_four():\n",
    "    rank_6_country_name= answer_three().index[5]\n",
    "    united_kingdom_data = answer_one().loc[[rank_6_country_name]]\n",
    "    return abs(united_kingdom_data['2006'].iloc[0] - united_kingdom_data['2015'].iloc[0])"
   ]
  },
  {
   "cell_type": "markdown",
   "metadata": {},
   "source": [
    "### Question 5 (6.6%)\n",
    "What is the mean `Energy Supply per Capita`?\n",
    "\n",
    "*This function should return a single number.*"
   ]
  },
  {
   "cell_type": "code",
   "execution_count": null,
   "metadata": {
    "collapsed": true,
    "umich_part_id": "013",
    "umich_partlist_id": "003"
   },
   "outputs": [],
   "source": [
    "def answer_five():\n",
    "    return answer_one()['Energy Supply per Capita'].mean()"
   ]
  },
  {
   "cell_type": "markdown",
   "metadata": {},
   "source": [
    "### Question 6 (6.6%)\n",
    "What country has the maximum % Renewable and what is the percentage?\n",
    "\n",
    "*This function should return a tuple with the name of the country and the percentage.*"
   ]
  },
  {
   "cell_type": "code",
   "execution_count": null,
   "metadata": {
    "collapsed": true,
    "umich_part_id": "014",
    "umich_partlist_id": "003"
   },
   "outputs": [],
   "source": [
    "def answer_six():\n",
    "    max_percentage_renewable = answer_one()['% Renewable'].sort_values(ascending = False)\n",
    "    percentage = max_percentage_renewable.iloc[0]\n",
    "    name_of_country = max_percentage_renewable.index[0]\n",
    "    return (name_of_country, percentage)"
   ]
  },
  {
   "cell_type": "markdown",
   "metadata": {},
   "source": [
    "### Question 7 (6.6%)\n",
    "Create a new column that is the ratio of Self-Citations to Total Citations. \n",
    "What is the maximum value for this new column, and what country has the highest ratio?\n",
    "\n",
    "*This function should return a tuple with the name of the country and the ratio.*"
   ]
  },
  {
   "cell_type": "code",
   "execution_count": null,
   "metadata": {
    "collapsed": true,
    "umich_part_id": "015",
    "umich_partlist_id": "003"
   },
   "outputs": [],
   "source": [
    "def answer_seven():\n",
    "    Top15 = answer_one() \n",
    "    ratio = (Top15 ['Self-citations'])/(Top15 ['Citations'])\n",
    "    ratio = ratio.sort_values(ascending = False)\n",
    "    maximum = ratio.iloc[0]\n",
    "    country_name = ratio.index[0]\n",
    "    return (country_name, maximum)"
   ]
  },
  {
   "cell_type": "markdown",
   "metadata": {},
   "source": [
    "### Question 8 (6.6%)\n",
    "\n",
    "Create a column that estimates the population using Energy Supply and Energy Supply per capita. \n",
    "What is the third most populous country according to this estimate?\n",
    "\n",
    "*This function should return a single string value.*"
   ]
  },
  {
   "cell_type": "code",
   "execution_count": null,
   "metadata": {
    "collapsed": true,
    "umich_part_id": "016",
    "umich_partlist_id": "003"
   },
   "outputs": [],
   "source": [
    "def answer_eight():\n",
    "    Top15 = answer_one()\n",
    "    capita_per_energy_supply = 1/(Top15['Energy Supply per Capita'])\n",
    "    Top15['population'] = Top15['Energy Supply'] * capita_per_energy_supply\n",
    "    population_series = Top15['population'].sort_values(ascending = False)\n",
    "    third_most_populous_country = population_series.index[2]\n",
    "    third_most_populous_country\n",
    "    return third_most_populous_country"
   ]
  },
  {
   "cell_type": "markdown",
   "metadata": {},
   "source": [
    "### Question 9 (6.6%)\n",
    "Create a column that estimates the number of citable documents per person. \n",
    "What is the correlation between the number of citable documents per capita and the energy supply per capita? Use the `.corr()` method, (Pearson's correlation).\n",
    "\n",
    "*This function should return a single number.*\n",
    "\n",
    "*(Optional: Use the built-in function `plot9()` to visualize the relationship between Energy Supply per Capita vs. Citable docs per Capita)*"
   ]
  },
  {
   "cell_type": "code",
   "execution_count": null,
   "metadata": {
    "collapsed": true,
    "umich_part_id": "017",
    "umich_partlist_id": "003"
   },
   "outputs": [],
   "source": [
    "def answer_nine():\n",
    "    Top15 = answer_one()\n",
    "    capita_per_energy_supply = 1/(Top15['Energy Supply per Capita'])\n",
    "    Top15['population'] = Top15['Energy Supply'] * capita_per_energy_supply\n",
    "    Top15['citable documents per capita'] = (Top15['Citable documents'])/(Top15['population'])\n",
    "    Top15['citable documents per capita'].corr(Top15['Energy Supply per Capita'], 'pearson')\n",
    "    return Top15['citable documents per capita'].corr(Top15['Energy Supply per Capita'], 'pearson')"
   ]
  },
  {
   "cell_type": "code",
   "execution_count": null,
   "metadata": {
    "collapsed": true
   },
   "outputs": [],
   "source": [
    "def plot9():\n",
    "    import matplotlib as plt\n",
    "    %matplotlib inline\n",
    "    \n",
    "    Top15 = answer_one()\n",
    "    Top15['PopEst'] = Top15['Energy Supply'] / Top15['Energy Supply per Capita']\n",
    "    Top15['Citable docs per Capita'] = Top15['Citable documents'] / Top15['PopEst']\n",
    "    Top15.plot(x='Citable docs per Capita', y='Energy Supply per Capita', kind='scatter', xlim=[0, 0.0006])"
   ]
  },
  {
   "cell_type": "code",
   "execution_count": null,
   "metadata": {
    "collapsed": true
   },
   "outputs": [],
   "source": [
    "#plot9() # Be sure to comment out plot9() before submitting the assignment!"
   ]
  },
  {
   "cell_type": "markdown",
   "metadata": {},
   "source": [
    "### Question 10 (6.6%)\n",
    "Create a new column with a 1 if the country's % Renewable value is at or above the median for all countries in the top 15, and a 0 if the country's % Renewable value is below the median.\n",
    "\n",
    "*This function should return a series named `HighRenew` whose index is the country name sorted in ascending order of rank.*"
   ]
  },
  {
   "cell_type": "code",
   "execution_count": null,
   "metadata": {
    "collapsed": true,
    "umich_part_id": "018",
    "umich_partlist_id": "003"
   },
   "outputs": [],
   "source": [
    "def answer_ten():\n",
    "    Top15 = answer_one()\n",
    "    median = answer_one()['% Renewable'].median()\n",
    "    Top15['HighRenew'] = Top15['% Renewable'].apply(lambda x: 1 if x >= median else (0 if x < median else 0))\n",
    "    Top15['HighRenew']\n",
    "    return Top15['HighRenew']"
   ]
  },
  {
   "cell_type": "markdown",
   "metadata": {},
   "source": [
    "### Question 11 (6.6%)\n",
    "Use the following dictionary to group the Countries by Continent, then create a dateframe that displays the sample size (the number of countries in each continent bin), and the sum, mean, and std deviation for the estimated population of each country.\n",
    "\n",
    "```python\n",
    "ContinentDict  = {'China':'Asia', \n",
    "                  'United States':'North America', \n",
    "                  'Japan':'Asia', \n",
    "                  'United Kingdom':'Europe', \n",
    "                  'Russian Federation':'Europe', \n",
    "                  'Canada':'North America', \n",
    "                  'Germany':'Europe', \n",
    "                  'India':'Asia',\n",
    "                  'France':'Europe', \n",
    "                  'South Korea':'Asia', \n",
    "                  'Italy':'Europe', \n",
    "                  'Spain':'Europe', \n",
    "                  'Iran':'Asia',\n",
    "                  'Australia':'Australia', \n",
    "                  'Brazil':'South America'}\n",
    "```\n",
    "\n",
    "*This function should return a DataFrame with index named Continent `['Asia', 'Australia', 'Europe', 'North America', 'South America']` and columns `['size', 'sum', 'mean', 'std']`*"
   ]
  },
  {
   "cell_type": "code",
   "execution_count": 23,
   "metadata": {
    "collapsed": true,
    "umich_part_id": "019",
    "umich_partlist_id": "003"
   },
   "outputs": [],
   "source": [
    "def answer_eleven():\n",
    "    Top15 = answer_one()\n",
    "    capita_per_energy_supply = 1/(Top15['Energy Supply per Capita'])\n",
    "    Top15['population'] = Top15['Energy Supply'] * capita_per_energy_supply\n",
    "    Top15['Country'] = Top15.index\n",
    "    ContinentDict  = {'China':'Asia', \n",
    "                  'United States':'North America', \n",
    "                  'Japan':'Asia', \n",
    "                  'United Kingdom':'Europe', \n",
    "                  'Russian Federation':'Europe', \n",
    "                  'Canada':'North America', \n",
    "                  'Germany':'Europe', \n",
    "                  'India':'Asia',\n",
    "                  'France':'Europe', \n",
    "                  'South Korea':'Asia', \n",
    "                  'Italy':'Europe', \n",
    "                  'Spain':'Europe', \n",
    "                  'Iran':'Asia',\n",
    "                  'Australia':'Australia', \n",
    "                  'Brazil':'South America'}\n",
    "    Top15['Continent'] = [ContinentDict[x] for x in Top15.index]\n",
    "    Top15 = Top15.reset_index(drop = True)\n",
    "    Top15 = Top15.sort_values('Continent', ascending = True)\n",
    "    Top15 = Top15.set_index (['Continent', 'Country'])\n",
    "    Top15['size'] = [list(Top15.index.get_level_values(level = 0)).count(x) \n",
    "                 for x in list(Top15.index.get_level_values(level = 0))]\n",
    "    Top15_copy = Top15[['size']]\n",
    "    Top15_copy = Top15_copy.reset_index(level=1, drop=True)\n",
    "    Top15_copy2 = Top15_copy.drop_duplicates()\n",
    "    Top15_copy2 = Top15_copy2.append(Top15_copy.loc['South America'])\n",
    "    Top15_copy2['sum'] = Top15.groupby(level = 'Continent').sum()['population']\n",
    "    Top15_copy2['mean'] = Top15.groupby(level = 'Continent').mean()['population']\n",
    "    Top15_copy2['std'] = Top15.groupby(level = 'Continent').std()['population']\n",
    "    return Top15_copy2"
   ]
  },
  {
   "cell_type": "markdown",
   "metadata": {},
   "source": [
    "### Question 12 (6.6%)\n",
    "Cut % Renewable into 5 bins. Group Top15 by the Continent, as well as these new % Renewable bins. How many countries are in each of these groups?\n",
    "\n",
    "*This function should return a __Series__ with a MultiIndex of `Continent`, then the bins for `% Renewable`. Do not include groups with no countries.*"
   ]
  },
  {
   "cell_type": "code",
   "execution_count": 1,
   "metadata": {},
   "outputs": [
    {
     "ename": "NameError",
     "evalue": "name 'answer_one' is not defined",
     "output_type": "error",
     "traceback": [
      "\u001b[0;31m---------------------------------------------------------------------------\u001b[0m",
      "\u001b[0;31mNameError\u001b[0m                                 Traceback (most recent call last)",
      "\u001b[0;32m<ipython-input-1-916d2d00a138>\u001b[0m in \u001b[0;36m<module>\u001b[0;34m()\u001b[0m\n\u001b[1;32m      1\u001b[0m \u001b[0;32mimport\u001b[0m \u001b[0mpandas\u001b[0m \u001b[0;32mas\u001b[0m \u001b[0mpd\u001b[0m\u001b[0;34m\u001b[0m\u001b[0m\n\u001b[1;32m      2\u001b[0m \u001b[0;32mimport\u001b[0m \u001b[0mnumpy\u001b[0m \u001b[0;32mas\u001b[0m \u001b[0mnp\u001b[0m\u001b[0;34m\u001b[0m\u001b[0m\n\u001b[0;32m----> 3\u001b[0;31m \u001b[0mTop15\u001b[0m \u001b[0;34m=\u001b[0m \u001b[0manswer_one\u001b[0m\u001b[0;34m(\u001b[0m\u001b[0;34m)\u001b[0m\u001b[0;34m\u001b[0m\u001b[0m\n\u001b[0m\u001b[1;32m      4\u001b[0m \u001b[0mcapita_per_energy_supply\u001b[0m \u001b[0;34m=\u001b[0m \u001b[0;36m1\u001b[0m\u001b[0;34m/\u001b[0m\u001b[0;34m(\u001b[0m\u001b[0mTop15\u001b[0m\u001b[0;34m[\u001b[0m\u001b[0;34m'Energy Supply per Capita'\u001b[0m\u001b[0;34m]\u001b[0m\u001b[0;34m)\u001b[0m\u001b[0;34m\u001b[0m\u001b[0m\n\u001b[1;32m      5\u001b[0m \u001b[0mTop15\u001b[0m\u001b[0;34m[\u001b[0m\u001b[0;34m'population'\u001b[0m\u001b[0;34m]\u001b[0m \u001b[0;34m=\u001b[0m \u001b[0mTop15\u001b[0m\u001b[0;34m[\u001b[0m\u001b[0;34m'Energy Supply'\u001b[0m\u001b[0;34m]\u001b[0m \u001b[0;34m*\u001b[0m \u001b[0mcapita_per_energy_supply\u001b[0m\u001b[0;34m\u001b[0m\u001b[0m\n",
      "\u001b[0;31mNameError\u001b[0m: name 'answer_one' is not defined"
     ]
    }
   ],
   "source": [
    "import pandas as pd\n",
    "import numpy as np\n",
    "Top15 = answer_one()\n",
    "capita_per_energy_supply = 1/(Top15['Energy Supply per Capita'])\n",
    "Top15['population'] = Top15['Energy Supply'] * capita_per_energy_supply\n",
    "Top15['Country'] = Top15.index\n",
    "ContinentDict  = {'China':'Asia', \n",
    "                  'United States':'North America', \n",
    "                  'Japan':'Asia', \n",
    "                  'United Kingdom':'Europe', \n",
    "                  'Russian Federation':'Europe', \n",
    "                  'Canada':'North America', \n",
    "                  'Germany':'Europe', \n",
    "                  'India':'Asia',\n",
    "                  'France':'Europe', \n",
    "                  'South Korea':'Asia', \n",
    "                  'Italy':'Europe', \n",
    "                  'Spain':'Europe', \n",
    "                  'Iran':'Asia',\n",
    "                  'Australia':'Australia', \n",
    "                  'Brazil':'South America'}\n",
    "Top15['Continent'] = [ContinentDict[x] for x in Top15.index]\n",
    "Top15 = Top15.reset_index(drop = True)\n",
    "Top15 = Top15.sort_values('Continent', ascending = True)\n",
    "Top15['bins'] = pd.cut(Top15['% Renewable'],5)\n",
    "answer = Top15.groupby(['Continent', 'bins']).size()"
   ]
  },
  {
   "cell_type": "code",
   "execution_count": 48,
   "metadata": {
    "collapsed": true,
    "scrolled": true
   },
   "outputs": [],
   "source": [
    "def answer_twelve():\n",
    "    Top15 = answer_one()\n",
    "    import pandas as pd\n",
    "    import numpy as np\n",
    "    Top15 = answer_one()\n",
    "    capita_per_energy_supply = 1/(Top15['Energy Supply per Capita'])\n",
    "    Top15['population'] = Top15['Energy Supply'] * capita_per_energy_supply\n",
    "    Top15['Country'] = Top15.index\n",
    "    ContinentDict  = {'China':'Asia', \n",
    "                  'United States':'North America', \n",
    "                  'Japan':'Asia', \n",
    "                  'United Kingdom':'Europe', \n",
    "                  'Russian Federation':'Europe', \n",
    "                  'Canada':'North America', \n",
    "                  'Germany':'Europe', \n",
    "                  'India':'Asia',\n",
    "                  'France':'Europe', \n",
    "                  'South Korea':'Asia', \n",
    "                  'Italy':'Europe', \n",
    "                  'Spain':'Europe', \n",
    "                  'Iran':'Asia',\n",
    "                  'Australia':'Australia', \n",
    "                  'Brazil':'South America'}\n",
    "    Top15['Continent'] = [ContinentDict[x] for x in Top15.index]\n",
    "    Top15 = Top15.reset_index(drop = True)\n",
    "    Top15 = Top15.sort_values('Continent', ascending = True)\n",
    "    Top15['bins'] = pd.cut(Top15['% Renewable'],5)\n",
    "    Top15.groupby(['Continent', 'bins']).size()\n",
    "    answer = Top15.groupby(['Continent', 'bins']).size()\n",
    "    return answer"
   ]
  },
  {
   "cell_type": "markdown",
   "metadata": {},
   "source": [
    "### Question 13 (6.6%)\n",
    "Convert the Population Estimate series to a string with thousands separator (using commas). Do not round the results.\n",
    "\n",
    "e.g. 317615384.61538464 -> 317,615,384.61538464\n",
    "\n",
    "*This function should return a Series `PopEst` whose index is the country name and whose values are the population estimate string.*"
   ]
  },
  {
   "cell_type": "code",
   "execution_count": 27,
   "metadata": {
    "collapsed": true,
    "scrolled": true,
    "umich_part_id": "020",
    "umich_partlist_id": "003"
   },
   "outputs": [],
   "source": [
    "def answer_thirteen():\n",
    "    Top15 = answer_one()\n",
    "    Top15['PopEst'] = (Top15['Energy Supply'] / Top15['Energy Supply per Capita']).astype(float)\n",
    "    add_thousands_separators = []\n",
    "    for x in Top15['PopEst']:\n",
    "        add_thousands_separators.append(\"{:,}\".format(x))\n",
    "    Top15['PopEst'] = add_thousands_separators\n",
    "    return Top15['PopEst']"
   ]
  },
  {
   "cell_type": "markdown",
   "metadata": {},
   "source": [
    "### Optional\n",
    "\n",
    "Use the built in function `plot_optional()` to see an example visualization."
   ]
  },
  {
   "cell_type": "code",
   "execution_count": null,
   "metadata": {
    "collapsed": true,
    "scrolled": true
   },
   "outputs": [],
   "source": [
    "def plot_optional():\n",
    "    import matplotlib as plt\n",
    "    %matplotlib inline\n",
    "    Top15 = answer_one()\n",
    "    ax = Top15.plot(x='Rank', y='% Renewable', kind='scatter', \n",
    "                    c=['#e41a1c','#377eb8','#e41a1c','#4daf4a','#4daf4a','#377eb8','#4daf4a','#e41a1c',\n",
    "                       '#4daf4a','#e41a1c','#4daf4a','#4daf4a','#e41a1c','#dede00','#ff7f00'], \n",
    "                    xticks=range(1,16), s=6*Top15['2014']/10**10, alpha=.75, figsize=[16,6]);\n",
    "\n",
    "    for i, txt in enumerate(Top15.index):\n",
    "        ax.annotate(txt, [Top15['Rank'][i], Top15['% Renewable'][i]], ha='center')\n",
    "\n",
    "    print(\"This is an example of a visualization that can be created to help understand the data. \\\n",
    "This is a bubble chart showing % Renewable vs. Rank. The size of the bubble corresponds to the countries' \\\n",
    "2014 GDP, and the color corresponds to the continent.\")"
   ]
  },
  {
   "cell_type": "code",
   "execution_count": null,
   "metadata": {
    "collapsed": true
   },
   "outputs": [],
   "source": [
    "#plot_optional() # Be sure to comment out plot_optional() before submitting the assignment!"
   ]
  }
 ],
 "metadata": {
  "anaconda-cloud": {},
  "coursera": {
   "course_slug": "python-data-analysis",
   "graded_item_id": "zAr06",
   "launcher_item_id": "KSSjT",
   "part_id": "SL3fU"
  },
  "kernelspec": {
   "display_name": "Python 3",
   "language": "python",
   "name": "python3"
  },
  "language_info": {
   "codemirror_mode": {
    "name": "ipython",
    "version": 3
   },
   "file_extension": ".py",
   "mimetype": "text/x-python",
   "name": "python",
   "nbconvert_exporter": "python",
   "pygments_lexer": "ipython3",
   "version": "3.6.2"
  },
  "umich": {
   "id": "Assignment 3",
   "version": "1.5"
  }
 },
 "nbformat": 4,
 "nbformat_minor": 1
}
